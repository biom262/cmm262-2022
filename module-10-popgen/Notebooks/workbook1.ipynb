{
 "cells": [
  {
   "cell_type": "markdown",
   "id": "fab5e536",
   "metadata": {},
   "source": [
    "Before beginning to run todays notebooks, please run the following commands in the terminal:"
   ]
  },
  {
   "cell_type": "markdown",
   "id": "ea898f50",
   "metadata": {},
   "source": [
    "```ln -s /datasets/bg237-wi22-a00-public/module-10-popgen-data/data1/ ~/module-10-popgen/workdir1/data```\n",
    "\n",
    "```ln -s /datasets/bg237-wi22-a00-public/module-10-popgen-data/data2/ ~/module-10-popgen/workdir2/data```"
   ]
  },
  {
   "cell_type": "code",
   "execution_count": null,
   "id": "76573cbc",
   "metadata": {},
   "outputs": [],
   "source": [
    "require( data.table)"
   ]
  },
  {
   "cell_type": "code",
   "execution_count": null,
   "id": "a235c6a9",
   "metadata": {},
   "outputs": [],
   "source": [
    "getwd()"
   ]
  },
  {
   "cell_type": "code",
   "execution_count": null,
   "id": "17ede926",
   "metadata": {},
   "outputs": [],
   "source": [
    "list.files()"
   ]
  },
  {
   "cell_type": "markdown",
   "id": "1a32c207",
   "metadata": {},
   "source": [
    "## Prep data for analysis"
   ]
  },
  {
   "cell_type": "code",
   "execution_count": null,
   "id": "1e759a46",
   "metadata": {},
   "outputs": [],
   "source": [
    "ped.clean <- fread( './data/KGP_GSA_postQC.ped' )\n",
    "map.clean <- fread( './data/KGP_GSA_postQC.map' )"
   ]
  },
  {
   "cell_type": "code",
   "execution_count": null,
   "id": "6969bbf1",
   "metadata": {},
   "outputs": [],
   "source": [
    "dim( ped.clean )\n",
    "dim( map.clean )"
   ]
  },
  {
   "cell_type": "code",
   "execution_count": null,
   "id": "beaebb94",
   "metadata": {},
   "outputs": [],
   "source": [
    "names( map.clean ) <- c( \"CHR\", \"SNP\", \"cM\", \"BP\" )"
   ]
  },
  {
   "cell_type": "code",
   "execution_count": null,
   "id": "b7821f42",
   "metadata": {},
   "outputs": [],
   "source": [
    "names( ped.clean )[ 1:6 ] <- c( \"FID\", \"IID\", \"MID\", \"PID\", \"Sex\", \"Pheno\" )  \n",
    "names( ped.clean )[ 7:dim(ped.clean)[2] ] <- map.clean$SNP"
   ]
  },
  {
   "cell_type": "code",
   "execution_count": null,
   "id": "06d574dc",
   "metadata": {},
   "outputs": [],
   "source": [
    "ped.clean[ 1:10, 1:11 ]\n",
    "map.clean[ 1:5, ]"
   ]
  },
  {
   "cell_type": "markdown",
   "id": "0d68360a",
   "metadata": {},
   "source": [
    "#### Look at a few SNPs"
   ]
  },
  {
   "cell_type": "code",
   "execution_count": null,
   "id": "9cc6d80d",
   "metadata": {},
   "outputs": [],
   "source": [
    "table( ped.clean$rs707582 )\n",
    "table( ped.clean$rs6462740 )\n",
    "table( ped.clean$rs11740127 )\n",
    "table( ped.clean$rs17114046 )"
   ]
  },
  {
   "cell_type": "code",
   "execution_count": null,
   "id": "dc7b0296",
   "metadata": {},
   "outputs": [],
   "source": [
    "# We need numbers, not letters, to do stats.  We like the additive model.\n",
    "# We need to count one of the alleles for each SNP, to get a number for analysis.\n",
    "# We can count either allele, or we could code as dominant or overe dominant.\n",
    "# For now, let's use a simple additive model.  Count whichever allele you fancy.\n",
    "\n",
    "ped.clean.add <- ped.clean"
   ]
  },
  {
   "cell_type": "code",
   "execution_count": null,
   "id": "d6e06b88",
   "metadata": {},
   "outputs": [],
   "source": [
    "## Code Data according to an additive model\n",
    "# fill in the SNP name: rs707582\n",
    "table( ped.clean$ )"
   ]
  },
  {
   "cell_type": "code",
   "execution_count": null,
   "id": "6162e930",
   "metadata": {},
   "outputs": [],
   "source": [
    "# Code rs707582 according to an additive model\n",
    "# fill in the SNP name: rs707582\n",
    "# fill in the genotype codes to specify the counts\n",
    "ped.clean.add$[ ped.clean.add$ == \"\" ] <- 0\n",
    "ped.clean.add$[ ped.clean.add$ == \"\" ] <- 1\n",
    "ped.clean.add$[ ped.clean.add$ == \"\" ] <- 2"
   ]
  },
  {
   "cell_type": "code",
   "execution_count": null,
   "id": "ec380b48",
   "metadata": {},
   "outputs": [],
   "source": [
    "#fill in the SNP name: rs707582 to compare new coding to old coding\n",
    "table( ped.clean.add$, ped.clean$ )"
   ]
  },
  {
   "cell_type": "code",
   "execution_count": null,
   "id": "a8f6af9d",
   "metadata": {},
   "outputs": [],
   "source": [
    "# Update all SNPs\n",
    "\n",
    "map.clean$A1 <- NA\n",
    "map.clean$A2 <- NA\n",
    "ped.clean.add <- ped.clean"
   ]
  },
  {
   "cell_type": "code",
   "execution_count": null,
   "id": "981ae43b",
   "metadata": {},
   "outputs": [],
   "source": [
    "for ( snp in map.clean$SNP ) {\n",
    "\t\n",
    "\ti <- which( names( ped.clean.add ) == snp )\n",
    "\tj <- which( map.clean$SNP == snp )\n",
    "\t \n",
    "\ttemp <- paste( ped.clean[[ i ]], collapse=' ' )\n",
    "\talleles <- unique( strsplit( temp, split=' ' )[[1]] )\n",
    "\n",
    "\tmap.clean$A1[ j ] <- alleles[ 1 ]\n",
    "\tmap.clean$A2[ j ] <- alleles[ 2 ]\n",
    "\n",
    "\tped.clean.add[[i]][ ped.clean[[i]] == paste( map.clean$A1[j], map.clean$A1[j] ) ] <- 2\n",
    "\tped.clean.add[[i]][ ped.clean[[i]] == paste( map.clean$A1[j], map.clean$A2[j] ) ] <- 1\n",
    "\tped.clean.add[[i]][ ped.clean[[i]] == paste( map.clean$A2[j], map.clean$A1[j] ) ] <- 1\n",
    "\tped.clean.add[[i]][ ped.clean[[i]] == paste( map.clean$A2[j], map.clean$A2[j] ) ] <- 0\n",
    "\tped.clean.add[[i]] <- as.numeric( ped.clean.add[[i]] )\t\t\n",
    "\t\t\t\t\t\t\t\t\n",
    "}"
   ]
  },
  {
   "cell_type": "code",
   "execution_count": null,
   "id": "dde4dcfa",
   "metadata": {},
   "outputs": [],
   "source": [
    "ped.clean.add[ 1:10, 1:11 ]\n",
    "map.clean[ 1:5, ]"
   ]
  },
  {
   "cell_type": "markdown",
   "id": "a26bdedd",
   "metadata": {},
   "source": [
    "#### Look at a few SNPs"
   ]
  },
  {
   "cell_type": "code",
   "execution_count": null,
   "id": "9fca699e",
   "metadata": {},
   "outputs": [],
   "source": [
    "map.clean[ map.clean$SNP == 'rs707582' ]\n",
    "table( ped.clean$rs707582, ped.clean.add$rs707582 )\n",
    "\n",
    "map.clean[ map.clean$SNP == 'rs6462740' ]\n",
    "table( ped.clean$rs6462740, ped.clean.add$rs6462740 )\n",
    "\n",
    "map.clean[ map.clean$SNP == 'rs11740127' ]\n",
    "table( ped.clean$rs11740127, ped.clean.add$rs11740127 )\n",
    "\n",
    "map.clean[ map.clean$SNP == 'rs17114046' ]\n",
    "table( ped.clean$rs17114046, ped.clean.add$rs17114046 )"
   ]
  },
  {
   "cell_type": "markdown",
   "id": "f7d26d98",
   "metadata": {},
   "source": [
    "## Load phenotype data"
   ]
  },
  {
   "cell_type": "code",
   "execution_count": null,
   "id": "7053f0b4",
   "metadata": {},
   "outputs": [],
   "source": [
    "# Case control trait\n",
    "pheno.cc <- fread( './data/CaseControl_pheno_all.txt' )"
   ]
  },
  {
   "cell_type": "code",
   "execution_count": null,
   "id": "f726d64a",
   "metadata": {},
   "outputs": [],
   "source": [
    "# Quantitative trait\n",
    "pheno.qt <- fread( './data/QuantitativeTrait_pheno_all.txt' )"
   ]
  },
  {
   "cell_type": "markdown",
   "id": "e5e09fa6",
   "metadata": {},
   "source": [
    "#### Visualize distributions"
   ]
  },
  {
   "cell_type": "code",
   "execution_count": null,
   "id": "422358ec",
   "metadata": {},
   "outputs": [],
   "source": [
    "hist( pheno.qt$qTrait, breaks='fd' )\n",
    "\n",
    "hist( pheno.cc$ccTrait, breaks='fd' )"
   ]
  },
  {
   "cell_type": "markdown",
   "id": "6afab947",
   "metadata": {},
   "source": [
    "## Compare single SNP with phenotypes"
   ]
  },
  {
   "cell_type": "code",
   "execution_count": null,
   "id": "46e62099",
   "metadata": {},
   "outputs": [],
   "source": [
    "# Test SNPs: rs707582, rs9913145, rs7237102, rs7741565"
   ]
  },
  {
   "cell_type": "markdown",
   "id": "9e40dcab",
   "metadata": {},
   "source": [
    "#### Quantitative trait"
   ]
  },
  {
   "cell_type": "code",
   "execution_count": null,
   "id": "6fb03bb4",
   "metadata": {},
   "outputs": [],
   "source": [
    "# Add phenotype to ped matrix\n",
    "ped.clean.add.qt <- ped.clean.add\n",
    "ped.clean.add.qt$Pheno <- pheno.qt$qTrait[ match( pheno.qt$IID, ped.clean.add$IID ) ]"
   ]
  },
  {
   "cell_type": "code",
   "execution_count": null,
   "id": "70c4e57e",
   "metadata": {},
   "outputs": [],
   "source": [
    "# Make a descriptive plot\n",
    "plot( ped.clean.add.qt$rs707582, ped.clean.add.qt$Pheno )\n",
    "# Mean of 0's\n",
    "points( 0, mean( ped.clean.add.qt$Pheno[ ped.clean.add.qt$rs707582 == 0 ] ), col=2, pch=15 )\n",
    "# Mean of 1's\n",
    "points( 1, mean( ped.clean.add.qt$Pheno[ ped.clean.add.qt$rs707582 == 1 ] ), col=2, pch=15 )\n",
    "# Mean of 2's\n",
    "points( 2, mean( ped.clean.add.qt$Pheno[ ped.clean.add.qt$rs707582 == 2 ] ), col=2, pch=15 )\n",
    "\n",
    "#Line from mean of 0's to mean of 2's -> Why? What are we looking for?\n",
    "segments( 0, mean( ped.clean.add.qt$Pheno[ ped.clean.add.qt$rs707582 == 0 ] ),\n",
    "\t\t\t2, mean( ped.clean.add.qt$Pheno[ ped.clean.add.qt$rs707582 == 2 ] ), \n",
    "\t\t\tcol=2 )"
   ]
  },
  {
   "cell_type": "markdown",
   "id": "1c21e29a",
   "metadata": {},
   "source": [
    "#### Linear regression"
   ]
  },
  {
   "cell_type": "code",
   "execution_count": null,
   "id": "1d60fcb8",
   "metadata": {},
   "outputs": [],
   "source": [
    "# rs707582, rs9913145, rs7237102, rs7741565\n",
    "snp.lm <- lm( Pheno ~ rs707582, data=ped.clean.add.qt )"
   ]
  },
  {
   "cell_type": "code",
   "execution_count": null,
   "id": "346eb1f6",
   "metadata": {},
   "outputs": [],
   "source": [
    "summary( snp.lm )"
   ]
  },
  {
   "cell_type": "code",
   "execution_count": null,
   "id": "a7c7c597",
   "metadata": {},
   "outputs": [],
   "source": [
    "# Make a descriptive plot\n",
    "plot( ped.clean.add.qt$rs707582, ped.clean.add.qt$Pheno )\n",
    "# Mean of 0's\n",
    "points( 0, mean( ped.clean.add.qt$Pheno[ ped.clean.add.qt$rs707582 == 0 ] ), col=2, pch=15 )\n",
    "# Mean of 1's\n",
    "points( 1, mean( ped.clean.add.qt$Pheno[ ped.clean.add.qt$rs707582 == 1 ] ), col=2, pch=15 )\n",
    "# Mean of 2's\n",
    "points( 2, mean( ped.clean.add.qt$Pheno[ ped.clean.add.qt$rs707582 == 2 ] ), col=2, pch=15 )\n",
    "#Line from mean of 0's to mean of 2's -> Why? What are we looking for?\n",
    "segments( 0, mean( ped.clean.add.qt$Pheno[ ped.clean.add.qt$rs707582 == 0 ] ),\n",
    "\t\t\t\t2, mean( ped.clean.add.qt$Pheno[ ped.clean.add.qt$rs707582 == 2 ] ), \n",
    "\t\t\t\tcol=2 )\n",
    "# Add regression line\n",
    "abline( snp.lm, col='blue' )"
   ]
  },
  {
   "cell_type": "code",
   "execution_count": null,
   "id": "65bb783e",
   "metadata": {},
   "outputs": [],
   "source": [
    "# Try a few random SNPs \n",
    "# How good is our additive model fit our data? \n",
    "# What about the \"pure additive model\"?\n",
    "\n",
    "# rs707582\n",
    "# rs9913145\n",
    "# rs7237102\n",
    "# rs7741565"
   ]
  },
  {
   "cell_type": "markdown",
   "id": "30b55362",
   "metadata": {},
   "source": [
    "#### Binary trait ( cases=2, controls=1 )"
   ]
  },
  {
   "cell_type": "code",
   "execution_count": null,
   "id": "621f4398",
   "metadata": {},
   "outputs": [],
   "source": [
    "ped.clean.add.cc <- ped.clean.add\n",
    "ped.clean.add.cc$Pheno <- pheno.cc$ccTrait[ match( pheno.cc$IID, ped.clean.add$IID ) ]\n",
    "\n",
    "map.clean[ map.clean$SNP == 'rs707582' ]\n",
    "\n",
    "table( ped.clean.add.cc$Pheno, ped.clean.add.cc$rs707582 )"
   ]
  },
  {
   "cell_type": "code",
   "execution_count": null,
   "id": "ebfe35bd",
   "metadata": {},
   "outputs": [],
   "source": [
    "# 2x3 table - but we are interested in an additive _allelic_ model ...\n",
    "#\n",
    "#\t\t\tA1\tA2\n",
    "#\tcase\ta\tc\n",
    "#\tcontrol\tb\td\n",
    "#\n",
    "#\todds | A1: a/b\n",
    "#\todds | A2: c/d \n",
    "\n",
    "a <- 2* + 1*\n",
    "b <- 2* + 1*\n",
    "c <- 2* + 1*\n",
    "d <- 2* + 1*\n",
    "\n",
    "add.allele.table <- matrix( c( a,b,c,d ), 2, 2 )\n",
    "add.allele.table\n"
   ]
  },
  {
   "cell_type": "code",
   "execution_count": null,
   "id": "5026a0ea",
   "metadata": {
    "scrolled": true
   },
   "outputs": [],
   "source": [
    "## Is there a relationship?\n",
    "## what is the odds ratio?\n",
    "\n",
    "or <- ( a*d ) / ( b*c )\n",
    "or"
   ]
  },
  {
   "cell_type": "code",
   "execution_count": null,
   "id": "be44e3a8",
   "metadata": {},
   "outputs": [],
   "source": [
    "#\trs707582\n",
    "#\t\tA1\tA2\n",
    "#\tca\t637\t393\n",
    "#\tco\t793\t505\n",
    "#\n",
    "# a <- 2*191 + 1*255\n",
    "# b <- 2*234 + 1*325\n",
    "# c <- 2*69 + 1*255\n",
    "# d <- 2*90 + 1*325\n",
    "#\n",
    "# or <- ( a*d ) / ( b*c )\n",
    "# or\n",
    "#\n",
    "#\tor = 1.03\n",
    "\n",
    "# rs9913145\n",
    "# rs7237102\n",
    "# rs7741565"
   ]
  },
  {
   "cell_type": "code",
   "execution_count": null,
   "id": "120853b0",
   "metadata": {},
   "outputs": [],
   "source": [
    "# Chi square test for independence:\n",
    "#\n",
    "#\t\t\tA1\tA2\n",
    "#\tcase\ta\tc\n",
    "#\tcontrol\tb\td\n",
    "#\n",
    "# chi.sq = sum( ( o_i - e_i)^2 / e_i )\n",
    "# \n",
    "# P( X and Y | X,Y are independent ) = P(X)P(Y)\n",
    "# E( X ) = N*P(X)\n",
    "#\n",
    "# E(a under null)    = E( A1 and case | A1 and case are independent )  \n",
    "#                    = n * P(A1) * P(Case)\n",
    "#                    = (a+b+c+d) * (a+b)/(a+b+c+d) * (a+c)/(a+b+c+d)\n",
    "\n",
    "n <- a+b+c+d\n",
    "e_a <- n * (a+b)/n * (a+c)/n\n",
    "e_b <- n * (a+b)/n * (b+d)/n\n",
    "e_c <- n * (c+d)/n * (a+c)/n\n",
    "e_d <- n * (c+d)/n * (b+d)/n\n",
    "\n",
    "chi2 <- ( a-e_a )^2/e_a + ( b-e_b )^2/e_b + ( c-e_c )^2/e_c + ( d-e_d )^2/e_d\n",
    "pchisq( chi2, 1, lower.tail=F )"
   ]
  },
  {
   "cell_type": "markdown",
   "id": "423b58e5",
   "metadata": {},
   "source": [
    "#### Logistic regression"
   ]
  },
  {
   "cell_type": "code",
   "execution_count": null,
   "id": "8f09a20d",
   "metadata": {},
   "outputs": [],
   "source": [
    "# We can't use a lm() for a binary outcomes, but we can use a logistic regression\n",
    "# in R this is fitted using glm() with the family='binomial' option\n",
    "ped.clean.add.cc$Pheno <- ped.clean.add.cc$Pheno-1\n",
    "\n",
    "snp.logm <- glm( Pheno ~ rs707582, data=ped.clean.add.cc, family='binomial' )\n",
    "\n",
    "summary( snp.logm )"
   ]
  },
  {
   "cell_type": "code",
   "execution_count": null,
   "id": "119edd86",
   "metadata": {},
   "outputs": [],
   "source": [
    "# How does our OR compare to the ln(OR) from logistic regression?\n",
    "# Try a few others\n",
    "# There are some violated assumptions so the 'direct or' and 'logsitc or'\n",
    "#    don't quite add up.  More on that later ...\n",
    "\n",
    "# rs707582\n",
    "# rs9913145\n",
    "# rs7237102\n",
    "# rs7741565"
   ]
  },
  {
   "cell_type": "markdown",
   "id": "cffe2072",
   "metadata": {},
   "source": [
    "## How about a Genome-Wide Association Study (GWAS)"
   ]
  },
  {
   "cell_type": "code",
   "execution_count": null,
   "id": "835533c6",
   "metadata": {},
   "outputs": [],
   "source": [
    "# We want one p-value per SNP, per phenotype\n",
    "# Let's get the idea from our mini data set.\n",
    "# Let's store the p's in our map file for easy access.\n",
    "map.clean$p.qt <- NA\n",
    "map.clean$p.cc <- NA\n",
    "map.clean$p.rand <- NA"
   ]
  },
  {
   "cell_type": "code",
   "execution_count": null,
   "id": "aa97ae3e",
   "metadata": {},
   "outputs": [],
   "source": [
    "set.seed( 123456 )   #So we all get the same \"random vector\"\n",
    "ped.clean.add.rand <- ped.clean.add.qt\n",
    "ped.clean.add.rand$Pheno <- rnorm( length( ped.clean.add.rand$Pheno ) )"
   ]
  },
  {
   "cell_type": "code",
   "execution_count": null,
   "id": "8f672b7a",
   "metadata": {},
   "outputs": [],
   "source": [
    "for ( snp in map.clean$SNP ) {\n",
    "\n",
    "\ttemp.qt <- as.formula( paste0( 'Pheno ~ ', snp ) )\n",
    "\ttemp.lm <- lm( temp.qt, data=ped.clean.add.qt )\n",
    " \tmap.clean$p.qt[ map.clean$SNP == snp ] <- summary( temp.lm )$coefficient[ 2,4 ]\n",
    "\n",
    "\ttemp.cc <- as.formula( paste0( 'Pheno ~ ', snp ) )\n",
    "\ttemp.glm <- glm( temp.cc, data=ped.clean.add.cc, family='binomial' )\n",
    " \tmap.clean$p.cc[ map.clean$SNP == snp ] <- summary( temp.glm )$coefficient[ 2,4 ]\n",
    "\n",
    "\ttemp.r <- as.formula( paste0( 'Pheno ~ ', snp ) )\n",
    "\ttemp.glm <- lm( temp.r, data=ped.clean.add.rand )\n",
    " \tmap.clean$p.rand[ map.clean$SNP == snp ] <- summary( temp.glm )$coefficient[ 2,4 ]\n",
    " \t\n",
    "}"
   ]
  },
  {
   "cell_type": "markdown",
   "id": "34ace385",
   "metadata": {},
   "source": [
    "#### How did we do?"
   ]
  },
  {
   "cell_type": "code",
   "execution_count": null,
   "id": "54300401",
   "metadata": {},
   "outputs": [],
   "source": [
    "sum( map.clean$p.rand < 0.05 )\n",
    "sum( map.clean$p.rand < 5e-8 )"
   ]
  },
  {
   "cell_type": "code",
   "execution_count": null,
   "id": "b56d39ba",
   "metadata": {},
   "outputs": [],
   "source": [
    "sum( map.clean$p.qt < 0.05 )\n",
    "sum( map.clean$p.qt < 5e-8 )"
   ]
  },
  {
   "cell_type": "code",
   "execution_count": null,
   "id": "b9c87f29",
   "metadata": {},
   "outputs": [],
   "source": [
    "sum( map.clean$p.cc < 0.05 )\n",
    "sum( map.clean$p.cc < 5e-8 )"
   ]
  },
  {
   "cell_type": "markdown",
   "id": "bcf65b6d",
   "metadata": {},
   "source": [
    "#### Random phenotype"
   ]
  },
  {
   "cell_type": "code",
   "execution_count": null,
   "id": "8b18f7bf",
   "metadata": {},
   "outputs": [],
   "source": [
    "# Mini manhattan plot"
   ]
  },
  {
   "cell_type": "code",
   "execution_count": null,
   "id": "c24ee3c6",
   "metadata": {},
   "outputs": [],
   "source": [
    "# Some plotting positions\n",
    "map.clean$ManPos <- cumsum( map.clean$BP/1000 )\n",
    "chr.mids <- cbind( 1:22, NA )\n",
    "for ( i in 1:22 ) {\n",
    "\tchr.start <- min( map.clean$ManPos[ map.clean$CHR == i ] )\t\n",
    "\tchr.stop <- max( map.clean$ManPos[ map.clean$CHR == i ] )\n",
    "\tchr.length <- chr.stop-chr.start\n",
    "\tchr.mids[ i,2 ] <- chr.start + chr.length/2\n",
    "}"
   ]
  },
  {
   "cell_type": "code",
   "execution_count": null,
   "id": "fb43bb85",
   "metadata": {},
   "outputs": [],
   "source": [
    "# Plot random phenotype p-values in Manhattan plot\n",
    "plot( map.clean$ManPos, -log10( map.clean$p.rand ),\n",
    "\t\txaxt='n', main=\"random\", \n",
    "\t\tcol=c( 'black','grey' )[ map.clean$CHR %% 2 + 1 ],\n",
    "\t\txlab=\"Genome Position\", ylab=\"-log10(p)\",\n",
    "\t\tylim=c( 0,10 ) )\n",
    "abline( h=-log10( 0.05 ), col='green' )\n",
    "abline( h=-log10( 5e-8 ), col='green' )\n",
    "axis( 1, at=chr.mids[,2], labels=chr.mids[,1] )"
   ]
  },
  {
   "cell_type": "code",
   "execution_count": null,
   "id": "8ee81f7b",
   "metadata": {},
   "outputs": [],
   "source": [
    "# Plot random phenotype p-values in QQ plot\n",
    "observed.p <- -log10( map.clean$p.rand[ order( map.clean$p.rand ) ] )\n",
    "expected.p <- -log10( ( 1:length( map.clean$p.rand ) ) / ( length( map.clean$p.rand ) + 1 ) )\n",
    "plot( expected.p, observed.p, main=\"random\" )\n",
    "abline( 0,1 )"
   ]
  },
  {
   "cell_type": "markdown",
   "id": "57f54d29",
   "metadata": {},
   "source": [
    "## qt"
   ]
  },
  {
   "cell_type": "code",
   "execution_count": null,
   "id": "9786a835",
   "metadata": {},
   "outputs": [],
   "source": [
    "# Plot simulated QT phenotype p-values in Manhattan plot\n",
    "plot( map.clean$ManPos, -log10( map.clean$p.qt ),\n",
    "\t\txaxt='n', main=\"linear\", \n",
    "\t\tcol=c( 'black','grey' )[ map.clean$CHR %% 2 + 1 ],\n",
    "\t\txlab=\"Genome Position\", ylab=\"-log10(p)\" )\n",
    "abline( h=-log10( 0.05 ), col='green' )\n",
    "abline( h=-log10( 5e-8 ), col='green' )\n",
    "axis( 1, at=chr.mids[,2], labels=chr.mids[,1] )"
   ]
  },
  {
   "cell_type": "code",
   "execution_count": null,
   "id": "edcb0e01",
   "metadata": {},
   "outputs": [],
   "source": [
    "# Plot simulated QT phenotype p-values in QQ plot\n",
    "observed.p <- -log10( map.clean$p.qt[ order( map.clean$p.qt ) ] )\n",
    "expected.p <- -log10( ( 1:length( map.clean$p.qt ) ) / ( length( map.clean$p.qt ) + 1 ) )\n",
    "plot( expected.p, observed.p, main=\"linear\" )\n",
    "abline( 0,1 )"
   ]
  },
  {
   "cell_type": "code",
   "execution_count": null,
   "id": "1ae94718",
   "metadata": {},
   "outputs": [],
   "source": [
    "## What do we think of these plots?\n",
    "## Does this look good or problematic?"
   ]
  },
  {
   "cell_type": "markdown",
   "id": "790f4b84",
   "metadata": {},
   "source": [
    "## cc"
   ]
  },
  {
   "cell_type": "code",
   "execution_count": null,
   "id": "b6b5d6b2",
   "metadata": {},
   "outputs": [],
   "source": [
    "# Plot simulated CC phenotype p-values in Manhattan plot\n",
    "plot( map.clean$ManPos, -log10( map.clean$p.cc ),\n",
    "\t\txaxt='n', main=\"case-control\", \n",
    "\t\tcol=c( 'black','grey' )[ map.clean$CHR %% 2 + 1 ],\n",
    "\t\txlab=\"Genome Position\", ylab=\"-log10(p)\" )\n",
    "abline( h=-log10( 0.05 ), col='green' )\n",
    "abline( h=-log10( 5e-8 ), col='green' )\n",
    "axis( 1, at=chr.mids[,2], labels=chr.mids[,1] )"
   ]
  },
  {
   "cell_type": "code",
   "execution_count": null,
   "id": "7d217bd4",
   "metadata": {},
   "outputs": [],
   "source": [
    "# Plot simulated QT phenotype p-values in QQ plot\n",
    "observed.p <- -log10( map.clean$p.cc[ order( map.clean$p.cc ) ] )\n",
    "expected.p <- -log10( ( 1:length( map.clean$p.cc ) ) / ( length( map.clean$p.cc ) + 1 ) )\n",
    "plot( expected.p, observed.p, main=\"case-control\" )\n",
    "abline( 0,1 )"
   ]
  },
  {
   "cell_type": "code",
   "execution_count": null,
   "id": "c1fd3cb2",
   "metadata": {},
   "outputs": [],
   "source": [
    "## What do we think of these plots?\n",
    "## Does this look good or problematic?"
   ]
  },
  {
   "cell_type": "markdown",
   "id": "b505f2ff",
   "metadata": {},
   "source": [
    "## Here is the full genome results:"
   ]
  },
  {
   "cell_type": "code",
   "execution_count": null,
   "id": "fd4b3ef5",
   "metadata": {},
   "outputs": [],
   "source": [
    "sumstats <- fread( './data/ALL_gwas.assoc.linear' )"
   ]
  },
  {
   "cell_type": "code",
   "execution_count": null,
   "id": "44fdf9c8",
   "metadata": {},
   "outputs": [],
   "source": [
    "dim( sumstats )\n",
    "head( sumstats )"
   ]
  },
  {
   "cell_type": "code",
   "execution_count": null,
   "id": "dea4487f",
   "metadata": {},
   "outputs": [],
   "source": [
    "sum( sumstats$P < 0.05 )\n",
    "sum( sumstats$P < 0.05 ) / dim( sumstats )[1]\n",
    "sum( sumstats$P < 5e-8 )\n",
    "sum( sumstats$P < 5e-8 ) / dim( sumstats )[1]"
   ]
  },
  {
   "cell_type": "code",
   "execution_count": null,
   "id": "de7bdc16",
   "metadata": {},
   "outputs": [],
   "source": [
    "# Qick Manhattan\n",
    "sumstats$ManPos <- cumsum( sumstats$BP/1000 )\n",
    "chr.mids <- cbind( 1:22, NA )\n",
    "for ( i in 1:22 ) {\n",
    "\tchr.start <- min( sumstats$ManPos[ sumstats$CHR == i ] )\n",
    "\tchr.stop <- max( sumstats$ManPos[ sumstats$CHR == i ] )\n",
    "\tchr.length <- chr.stop-chr.start\n",
    "\tchr.mids[ i,2 ] <- chr.start + chr.length/2\n",
    "}"
   ]
  },
  {
   "cell_type": "code",
   "execution_count": null,
   "id": "a1710ea5",
   "metadata": {},
   "outputs": [],
   "source": [
    "#####ERROR#####\n",
    "plot( sumstats$ManPos[ sumstats$P < 0.1 ],\n",
    "\t\t-log10( sumstats$P[ sumstats$P < 0.1 ] ),\n",
    "\t\txaxt='n', pch=16,\n",
    "\t\tcol=c( 'black','grey' )[ sumstats$CHR %% 2 + 1 ],\n",
    "\t\txlab=\"Genome Position\", ylab=\"-log10(p)\",\n",
    "\t\tylim=c(0,max( -log10( sumstats$P ) )+1 ) )\n",
    "abline( h=-log10( 0.05 ), col='green' )\n",
    "abline( h=-log10( 5e-8 ), col='green' )\n",
    "axis( 1, at=chr.mids[,2], labels=chr.mids[,1] )"
   ]
  },
  {
   "cell_type": "code",
   "execution_count": null,
   "id": "a3f88238",
   "metadata": {},
   "outputs": [],
   "source": [
    "# Qick qq-plot\n",
    "observed.p <- -log10( sumstats$P[ order( sumstats$P ) ] )\n",
    "expected.p <- -log10( ( 1:length( sumstats$P ) ) / ( length( sumstats$P ) ) )\n",
    "plot( expected.p[ expected.p < 4 ], observed.p[ expected.p < 4 ], \n",
    "\t\ttype='l', lwd=6,\n",
    "\t\txlim=c( 0, max(expected.p)+1 ), ylim=c( 0, max(observed.p)+1 ) )\n",
    "points( expected.p[ expected.p >= 4 ], observed.p[ expected.p >= 4 ],\n",
    "\t\tpch=16 )\n",
    "abline( 0,1 )"
   ]
  },
  {
   "cell_type": "code",
   "execution_count": null,
   "id": "8155afc2",
   "metadata": {},
   "outputs": [],
   "source": [
    "## What do we think of these plots?\n",
    "## Does this look good or problematic?"
   ]
  },
  {
   "cell_type": "markdown",
   "id": "97432fd7",
   "metadata": {},
   "source": [
    "## Population structure analysis"
   ]
  },
  {
   "cell_type": "code",
   "execution_count": null,
   "id": "7f94f3fa",
   "metadata": {},
   "outputs": [],
   "source": [
    "## There is a hint in our ped file ...\n",
    "head( ped.clean.add.cc )[ ,1:10 ]\n",
    "table( ped.clean.add.cc$FID )"
   ]
  },
  {
   "cell_type": "code",
   "execution_count": null,
   "id": "4efcf335",
   "metadata": {},
   "outputs": [],
   "source": [
    "# This data set involved real genotypes on people from the 1000 genomes project\n",
    "# The goal was to sample human diversity and so contains people from multipl\n",
    "# ancetsries.  Here, AFR=African, EUR=European - both of which contain subgroups\n",
    "# See:  https://www.internationalgenome.org/data-portal/population"
   ]
  },
  {
   "cell_type": "code",
   "execution_count": null,
   "id": "fddb96e0",
   "metadata": {
    "scrolled": true
   },
   "outputs": [],
   "source": [
    "# Does the phenotype vary with ancestry?\n",
    "\n",
    "table( ped.clean.add.cc$FID, ped.clean.add.cc$Pheno )"
   ]
  },
  {
   "cell_type": "code",
   "execution_count": null,
   "id": "be02b7d5",
   "metadata": {
    "scrolled": true
   },
   "outputs": [],
   "source": [
    "# Is there an association between ancestry and case-control? \n",
    "# Hint: calculate an odds ratio\n",
    "a <- \n",
    "b <- \n",
    "c <- \n",
    "d <- \n",
    "\n",
    "(a*d) / (b*c)"
   ]
  },
  {
   "cell_type": "code",
   "execution_count": null,
   "id": "6added37",
   "metadata": {},
   "outputs": [],
   "source": [
    "## Chi sq test\n",
    "\n",
    "n <- a+b+c+d\n",
    "e_a <- n * (a+b)/n * (a+c)/n\n",
    "e_b <- n * (a+b)/n * (b+d)/n\n",
    "e_c <- n * (c+d)/n * (a+c)/n\n",
    "e_d <- n * (c+d)/n * (b+d)/n\n",
    "\n",
    "chi2 <- ( a-e_a )^2/e_a + ( b-e_b )^2/e_b + ( c-e_c )^2/e_c + ( d-e_d )^2/e_d\n",
    "pchisq( chi2, 1, lower.tail=F )"
   ]
  },
  {
   "cell_type": "code",
   "execution_count": null,
   "id": "8973d223",
   "metadata": {},
   "outputs": [],
   "source": [
    "#Are the means of the qt different?\n",
    "\n",
    "par( mfcol=c(2,1) )\n",
    "hist( ped.clean.add.qt$Pheno[ ped.clean.add.cc$FID == 'AFR' ],\n",
    "\t\tbreaks=seq(-5,5,by=0.5) )\n",
    "abline( v=mean( ped.clean.add.qt$Pheno[ ped.clean.add.cc$FID == 'AFR' ] ), col='red' )\n",
    "hist( ped.clean.add.qt$Pheno[ ped.clean.add.cc$FID == 'EUR' ],\n",
    "\t\tbreaks=seq(-5,5,by=0.5) )\n",
    "abline( v=mean( ped.clean.add.qt$Pheno[ ped.clean.add.cc$FID == 'EUR' ] ), col='red' )"
   ]
  },
  {
   "cell_type": "code",
   "execution_count": null,
   "id": "5b1fd541",
   "metadata": {},
   "outputs": [],
   "source": [
    "# Are the means the same?\n",
    "mean.a <- ped.clean.add.qt$Pheno[ ped.clean.add.cc$FID == 'AFR' ]\n",
    "mean.e <- ped.clean.add.qt$Pheno[ ped.clean.add.cc$FID == 'EUR' ]\n",
    "t.test( mean.a, mean.e )"
   ]
  },
  {
   "cell_type": "markdown",
   "id": "5aa581bc",
   "metadata": {},
   "source": [
    "#### What can we do?"
   ]
  },
  {
   "cell_type": "code",
   "execution_count": null,
   "id": "3c5590fa",
   "metadata": {},
   "outputs": [],
   "source": [
    "# Let's analyze the ancestry using principal components analysis\n",
    "# the next couple of steps take a while to run\n",
    "pca <- prcomp( ped.clean.add[ ,7:998 ], rank=10 )\n",
    "pcs <- cbind( ped.clean.add[ ,1:2], pca$x[ ,1:10 ] )\n",
    "\n",
    "head( pcs )"
   ]
  },
  {
   "cell_type": "code",
   "execution_count": null,
   "id": "574f5139",
   "metadata": {},
   "outputs": [],
   "source": [
    "par( mfrow=c(2,3) )\n",
    "plot( pcs$PC1, pcs$PC2 )\n",
    "plot( pcs$PC3, pcs$PC4 )\n",
    "plot( pcs$PC5, pcs$PC6 )\n",
    "plot( pcs$PC7, pcs$PC8 )\n",
    "plot( pcs$PC9, pcs$PC10 )"
   ]
  },
  {
   "cell_type": "code",
   "execution_count": null,
   "id": "1386013f",
   "metadata": {},
   "outputs": [],
   "source": [
    "## Looks like some clear structure in the genotypes.  Is it ancestry?"
   ]
  },
  {
   "cell_type": "code",
   "execution_count": null,
   "id": "d2d06d20",
   "metadata": {},
   "outputs": [],
   "source": [
    "# Color by African (red) vs. European (blue)\n",
    "\n",
    "par( mfrow=c(2,3) )\n",
    "plot( pcs$PC1, pcs$PC2, col=c( \"red\", \"blue\" )[ 1 + 1*(pcs$FID == 'EUR') ] )\n",
    "plot( pcs$PC3, pcs$PC4, col=c( \"red\", \"blue\" )[ 1 + 1*(pcs$FID == 'EUR') ] )\n",
    "plot( pcs$PC5, pcs$PC6, col=c( \"red\", \"blue\" )[ 1 + 1*(pcs$FID == 'EUR') ] )\n",
    "plot( pcs$PC7, pcs$PC8, col=c( \"red\", \"blue\" )[ 1 + 1*(pcs$FID == 'EUR') ] )\n",
    "plot( pcs$PC9, pcs$PC10, col=c( \"red\", \"blue\" )[ 1 + 1*(pcs$FID == 'EUR') ] )"
   ]
  },
  {
   "cell_type": "code",
   "execution_count": null,
   "id": "eb23f2fd",
   "metadata": {},
   "outputs": [],
   "source": [
    "## Looks like some clear structure in the genotypes.  Is it ancestry?\n",
    "## Looks like it."
   ]
  },
  {
   "cell_type": "code",
   "execution_count": null,
   "id": "e9127c0b",
   "metadata": {},
   "outputs": [],
   "source": [
    "## Let's restrict to one population and check for structure\n",
    "\n",
    "ped.clean.add.eur <- ped.clean.add[ ped.clean.add$FID == 'EUR' ]\n",
    "pca.eur <- prcomp( ped.clean.add.eur[ ,7:998 ], rank=10 )\n",
    "pcs.eur <- cbind( ped.clean.add.eur[ ,1:2], pca.eur$x[ ,1:10 ] )"
   ]
  },
  {
   "cell_type": "code",
   "execution_count": null,
   "id": "2b1ba1bf",
   "metadata": {},
   "outputs": [],
   "source": [
    "par( mfrow=c(2,3) )\n",
    "plot( pcs.eur$PC1, pcs.eur$PC2 )\n",
    "plot( pcs.eur$PC3, pcs.eur$PC4 )\n",
    "plot( pcs.eur$PC5, pcs.eur$PC6 )\n",
    "plot( pcs.eur$PC7, pcs.eur$PC8 )\n",
    "plot( pcs.eur$PC9, pcs.eur$PC10 )"
   ]
  },
  {
   "cell_type": "code",
   "execution_count": null,
   "id": "8c62dd8d",
   "metadata": {},
   "outputs": [],
   "source": [
    "## Are we still worrid about structure?\n",
    "## We can add covariats to our model to help even more."
   ]
  },
  {
   "cell_type": "markdown",
   "id": "07f86835",
   "metadata": {},
   "source": [
    "#### Load covariates"
   ]
  },
  {
   "cell_type": "code",
   "execution_count": null,
   "id": "ae3e8c84",
   "metadata": {},
   "outputs": [],
   "source": [
    "covs <- fread( './data/QuantitativeTrait_cov_eur.txt' )"
   ]
  },
  {
   "cell_type": "code",
   "execution_count": null,
   "id": "2a47c5f8",
   "metadata": {},
   "outputs": [],
   "source": [
    "dim( covs )\n",
    "head( covs )\t\t# PCs are the same conceptually as the last step, just optimized to\n",
    "\t\t\t\t\t# these particualr simulations"
   ]
  },
  {
   "cell_type": "code",
   "execution_count": null,
   "id": "d9171731",
   "metadata": {},
   "outputs": [],
   "source": [
    "dim( ped.clean.add.qt)"
   ]
  },
  {
   "cell_type": "code",
   "execution_count": null,
   "id": "91300ee8",
   "metadata": {},
   "outputs": [],
   "source": [
    "## We will merge our ped data with the covs, and do new analysis.  This will\n",
    "## select European subjects only (not the different number of rows)\n",
    "ped.clean.add.qt.covs <- merge( covs, ped.clean.add.qt, by=c( \"FID\", \"IID\", \"Sex\" ) )"
   ]
  },
  {
   "cell_type": "code",
   "execution_count": null,
   "id": "2b0c76a4",
   "metadata": {},
   "outputs": [],
   "source": [
    "dim( ped.clean.add.qt.covs)\n",
    "head( ped.clean.add.qt.covs[ ,1:25] )"
   ]
  },
  {
   "cell_type": "markdown",
   "id": "9d85efe8",
   "metadata": {},
   "source": [
    "## Perform GWAS 2.0: linear regression"
   ]
  },
  {
   "cell_type": "code",
   "execution_count": null,
   "id": "beaa9507",
   "metadata": {},
   "outputs": [],
   "source": [
    "# Test SNPs: rs707582, rs9913145, rs7237102, rs7741565"
   ]
  },
  {
   "cell_type": "code",
   "execution_count": null,
   "id": "0cb559d1",
   "metadata": {},
   "outputs": [],
   "source": [
    "## Quantitative trait\n",
    "## Linear regression\n",
    "# rs707582, rs9913145, rs7237102, rs7741565"
   ]
  },
  {
   "cell_type": "code",
   "execution_count": null,
   "id": "feba81bb",
   "metadata": {},
   "outputs": [],
   "source": [
    "snp.lm.covs <- lm( Pheno ~ rs707582 + Sex + PC1 + PC2 + PC3 + PC4 + PC5 + \n",
    "\t\t\t\t\t\t\t\t\tPC6 + PC7 + PC8 + PC9 + PC10, data=ped.clean.add.qt.covs )\n",
    "summary( snp.lm.covs )"
   ]
  },
  {
   "cell_type": "code",
   "execution_count": null,
   "id": "22359dc7",
   "metadata": {},
   "outputs": [],
   "source": [
    "######ERROR#####\n",
    "# Make a descriptive plot\n",
    "plot( ped.clean.add.qt.covs$rs707582, ped.clean.add.qt.covs$Pheno )\n",
    "# Mean of 0's\n",
    "points( 0, mean( ped.clean.add.qt.covs$Pheno[ ped.clean.add.qt.covs$ == 0 ] ), \n",
    "\t\t\t\tcol=2, pch=15 )\n",
    "# Mean of 1's\n",
    "points( 1, mean( ped.clean.add.qt.covs$Pheno[ ped.clean.add.qt.covs$ == 1 ] ), \n",
    "\t\t\t\tcol=2, pch=15 )\n",
    "# Mean of 2's\n",
    "points( 2, mean( ped.clean.add.qt.covs$Pheno[ ped.clean.add.qt.covs$  == 2 ] ), \n",
    "\t\t\t\tcol=2, pch=15 )\n",
    "#Line from mean of 0's to mean of 2's -> Why? What are we looking for?\n",
    "segments( 0, mean( ped.clean.add.qt.covs$Pheno[ ped.clean.add.qt.covs$  == 0 ] ),\n",
    "\t\t\t\t2, mean( ped.clean.add.qt.covs$Pheno[ ped.clean.add.qt.covs$  == 2 ] ), \n",
    "\t\t\t\tcol=2 )\n",
    "# Add regression line\n",
    "abline( snp.lm.covs$coefficients[1], snp.lm.covs$coefficients[2], col='blue' )\n"
   ]
  },
  {
   "cell_type": "code",
   "execution_count": null,
   "id": "14b7bcf6",
   "metadata": {},
   "outputs": [],
   "source": [
    "# Try a few random SNPs \n",
    "# How good is our additive model fit our data? \n",
    "# What about the \"pure additive model\"?\n",
    "# How do these results for our test SNPs compare to previous SNP tests?\n",
    "# Are the p-values similaar or different?"
   ]
  },
  {
   "cell_type": "code",
   "execution_count": null,
   "id": "ac50f8b6",
   "metadata": {},
   "outputs": [],
   "source": [
    "# rs707582\n",
    "# rs9913145\n",
    "# rs7237102\n",
    "# rs7741565"
   ]
  },
  {
   "cell_type": "markdown",
   "id": "b66cc46b",
   "metadata": {},
   "source": [
    "## Here is the full genome results in EUR with COVs:"
   ]
  },
  {
   "cell_type": "code",
   "execution_count": null,
   "id": "0a4e1b00",
   "metadata": {},
   "outputs": [],
   "source": [
    "sumstats.eur <- fread( './data/EUR_COVS_gwas.assoc.linear' )"
   ]
  },
  {
   "cell_type": "code",
   "execution_count": null,
   "id": "de217a64",
   "metadata": {},
   "outputs": [],
   "source": [
    "dim( sumstats.eur )\n",
    "head( sumstats.eur )"
   ]
  },
  {
   "cell_type": "code",
   "execution_count": null,
   "id": "938f20ac",
   "metadata": {},
   "outputs": [],
   "source": [
    "sum( sumstats.eur$P < 0.05 )\n",
    "sum( sumstats.eur$P < 5e-8 )"
   ]
  },
  {
   "cell_type": "markdown",
   "id": "092054e7",
   "metadata": {},
   "source": [
    "#### How do these numbers compare to previous ones?"
   ]
  },
  {
   "cell_type": "code",
   "execution_count": null,
   "id": "e2b101ec",
   "metadata": {},
   "outputs": [],
   "source": [
    "# Qick Manhattan\n",
    "sumstats.eur$ManPos <- cumsum( sumstats.eur$BP/1000 )\n",
    "chr.mids <- cbind( 1:22, NA )\n",
    "for ( i in 1:22 ) {\n",
    "\tchr.start <- min( sumstats.eur$ManPos[ sumstats.eur$CHR == i ] )\t\n",
    "\tchr.stop <- max( sumstats.eur$ManPos[ sumstats.eur$CHR == i ] )\n",
    "\tchr.length <- chr.stop-chr.start\n",
    "\tchr.mids[ i,2 ] <- chr.start + chr.length/2\n",
    "}"
   ]
  },
  {
   "cell_type": "code",
   "execution_count": null,
   "id": "14837bbd",
   "metadata": {},
   "outputs": [],
   "source": [
    "plot( sumstats.eur$ManPos[ sumstats.eur$P < 0.1 ], \n",
    "\t\t-log10( sumstats.eur$P[ sumstats.eur$P < 0.1 ] ),\n",
    "\t\txaxt='n', pch=16,\n",
    "\t\tcol=c( 'black','grey' )[ sumstats.eur$CHR[ sumstats.eur$P < 0.1 ] %% 2 + 1 ],\n",
    "\t\txlab=\"Genome Position\", ylab=\"-log10(p)\",\n",
    "\t\tylim=c(0,max( -log10( sumstats.eur$P ) )+1 ) )\n",
    "abline( h=-log10( 0.05 ), col='green' )\n",
    "abline( h=-log10( 5e-8 ), col='green' )\n",
    "axis( 1, at=chr.mids[,2], labels=chr.mids[,1] )"
   ]
  },
  {
   "cell_type": "code",
   "execution_count": null,
   "id": "c99797d7",
   "metadata": {},
   "outputs": [],
   "source": [
    "# Qick qq-plot\n",
    "observed.p <- -log10( sumstats.eur$P[ order( sumstats.eur$P ) ] )\n",
    "expected.p <- -log10( ( 1:length( sumstats.eur$P ) ) / ( length( sumstats.eur$P ) ) )\n",
    "plot( expected.p[ expected.p < 4 ], observed.p[ expected.p < 4 ], \n",
    "\t\ttype='l', lwd=6,\n",
    "\t\txlim=c( 0, max(expected.p)+1 ), ylim=c( 0, max(observed.p)+1 ) )\n",
    "points( expected.p[ expected.p >= 4 ], observed.p[ expected.p >= 4 ],\n",
    "\t\tpch=16 )\n",
    "abline( 0,1 )"
   ]
  },
  {
   "cell_type": "code",
   "execution_count": null,
   "id": "540673ae",
   "metadata": {},
   "outputs": [],
   "source": [
    "## What do we think of these plots?\n",
    "## Does this look good or problematic?"
   ]
  }
 ],
 "metadata": {
  "kernelspec": {
   "display_name": "R",
   "language": "R",
   "name": "ir"
  },
  "language_info": {
   "codemirror_mode": "r",
   "file_extension": ".r",
   "mimetype": "text/x-r-source",
   "name": "R",
   "pygments_lexer": "r",
   "version": "3.6.3"
  }
 },
 "nbformat": 4,
 "nbformat_minor": 5
}
