{
 "cells": [
  {
   "cell_type": "markdown",
   "metadata": {},
   "source": [
    "## CMM262: ChIP-seq workshop – Part 2"
   ]
  },
  {
   "cell_type": "markdown",
   "metadata": {},
   "source": [
    "Following the steps 1-5 on from Part 1, you should have a tagdirectory for each of the datasets (6 in total) and you should also have the UCSCfiles.   \n",
    "\n",
    "As we discussed, each dataset was created by a different antibody, and they can be divided into three types: TFs (transcription factors) HMs (histone modifications) and global input (background). Since we will need to treat each type differently, I recommend making a directory for each – input, TFs and HMs and move the tag directories to the relevant one (e.g. tfs/oct4-esc/, etc.)."
   ]
  },
  {
   "cell_type": "markdown",
   "metadata": {},
   "source": [
    "**Run all homer commands in your terminal. First make sure to activate the r-bio conda environment. Make sure you are in the module-9-chipseq folder.**"
   ]
  },
  {
   "cell_type": "code",
   "execution_count": null,
   "metadata": {},
   "outputs": [],
   "source": [
    "%%bash\n",
    "source activate r-bio"
   ]
  },
  {
   "cell_type": "code",
   "execution_count": null,
   "metadata": {},
   "outputs": [],
   "source": [
    "%%bash\n",
    "mkdir -p chipseq_workshop/tagdirs/hms/\n",
    "mkdir -p chipseq_workshop/tagdirs/tfs/\n",
    "mkdir -p chipseq_workshop/tagdirs/input/"
   ]
  },
  {
   "cell_type": "code",
   "execution_count": null,
   "metadata": {},
   "outputs": [],
   "source": [
    "%%bash\n",
    "mv chipseq_workshop/tagdirs/h3* chipseq_workshop/tagdirs/hms/\n",
    "mv chipseq_workshop/tagdirs/input-esc/ chipseq_workshop/tagdirs/input/\n",
    "mv chipseq_workshop/tagdirs/*esc chipseq_workshop/tagdirs/tfs/"
   ]
  },
  {
   "cell_type": "markdown",
   "metadata": {},
   "source": [
    "---\n",
    "**6. One of the most common tasks with ChIP-seq data is to find ‘enriched’ regions commonly called “peaks”.** HOMER contains a command called findPeaks which is used to analyze tag directories for peaks. There are two common ways to use the command:\n",
    "\n",
    "```\n",
    "findPeaks <tag directory> -i <control tag directory> -style factor  -o auto\n",
    "```\n",
    "\n",
    "or\n",
    "\n",
    "```\n",
    "findPeaks <path>/oct4-esc/ -i <path>/input-esc/ -style histone -o auto\n",
    "```"
   ]
  },
  {
   "cell_type": "markdown",
   "metadata": {},
   "source": [
    "The difference between the two is in the “-style factor/histone” argument, which will tell the program to look for focal, fixed width peaks (factor; i.e. TF) vs. variable length peaks (histone; i.e. HM); the later is more common in the case of histone modifications. To find Oct4 peaks in the data, run the following command:\n",
    "\n",
    "```\n",
    "findPeaks <path>/oct4-esc/ -i <path>/input-esc/ -style factor -o auto\n",
    "```\n",
    "  \n",
    "This command will look for enriched regions and filter them based on several criterion, including ensuring that they have at least 4-fold more reads in peak regions relative to the control experiment (in this case `input-esc/`). The output will be stored in a HOMER-style peak file located in the Oct4 tag directory (`oct4-esc/peaks.txt`). The beginning of this file contains statistics and QC stats from the peak finding, including the number of peaks, number of peaks lost to input filtering, etc.     \n",
    "\n",
    "One field worth paying attention to is the **“Approximate IP efficiency”** which reports what fraction of reads from the experiment were actually found in peaks. For most decent experiments this value ranges from 1% to >30% (remember ChIP is an enrichment strategy... there is plenty of background in the data too!). Below this are the peaks along with enrichment statistics for each region.\n",
    "\n",
    "One other thing to note is that HOMER reports the results in a ‘peak’ file, which has a slightly different format from a traditional BED file format. To create a BED file from the peak file, use the tool pos2bed.pl (e.g. `pos2bed.pl oct4-esc/peaks.txt > oct4-esc.bed`. The “`> output.txt`” part at the end means that the results will be sent to stdout, and the “`> output.txt`” is used to capture the output information in a file.). BED files can be uploaded to IGV just like a bedGraph file. Also, most HOMER programs will work with either BED or peak files as input.\n",
    "\n",
    "\n",
    "Next we will find peaks for all samples using two ‘for loops’ – for the two types of data:\n"
   ]
  },
  {
   "cell_type": "code",
   "execution_count": null,
   "metadata": {},
   "outputs": [],
   "source": [
    "%%bash\n",
    "for dir in chipseq_workshop/tagdirs/hms/*; do\n",
    "    nohup findPeaks \"$dir\" -i chipseq_workshop/tagdirs/input/input-esc/ -style histone -o auto > \"$dir\"/findPeaks.out &\n",
    "done"
   ]
  },
  {
   "cell_type": "markdown",
   "metadata": {},
   "source": [
    "and"
   ]
  },
  {
   "cell_type": "code",
   "execution_count": null,
   "metadata": {},
   "outputs": [],
   "source": [
    "%%bash\n",
    "for dir in chipseq_workshop/tagdirs/tfs/*; do\n",
    "    nohup findPeaks \"$dir\" -i chipseq_workshop/tagdirs/input/input-esc/ -style factor -o auto > \"$dir\"/findPeaks.out &\n",
    "done"
   ]
  },
  {
   "cell_type": "markdown",
   "metadata": {},
   "source": [
    "Make a directory for the annotation files (e.g., “annotations”) and convert the peak.txt and region.txt files to bed files:\n"
   ]
  },
  {
   "cell_type": "code",
   "execution_count": null,
   "metadata": {},
   "outputs": [],
   "source": [
    "%%bash\n",
    "mkdir -p chipseq_workshop/annotations"
   ]
  },
  {
   "cell_type": "code",
   "execution_count": null,
   "metadata": {},
   "outputs": [],
   "source": [
    "%%bash\n",
    "for dir in chipseq_workshop/tagdirs/hms/*; do\n",
    "    dirname=\"$(basename $dir)\"\n",
    "    pos2bed.pl \"$dir\"/regions.txt > chipseq_workshop/annotations/\"$dirname\".bed\n",
    "done"
   ]
  },
  {
   "cell_type": "markdown",
   "metadata": {},
   "source": [
    "and"
   ]
  },
  {
   "cell_type": "code",
   "execution_count": null,
   "metadata": {},
   "outputs": [],
   "source": [
    "%%bash\n",
    "for dir in chipseq_workshop/tagdirs/tfs/*; do\n",
    "    dirname=\"$(basename $dir)\";\n",
    "    pos2bed.pl \"$dir\"/peaks.txt > chipseq_workshop/annotations/\"$dirname\".bed;\n",
    "done"
   ]
  },
  {
   "cell_type": "markdown",
   "metadata": {},
   "source": [
    "\n",
    "Copy the bed files to your local computer and load to IGV. Explore the original (previous to conversion to bed) peaks.txt and regions.txt files with less -S in the command line. For instance, each peak gets a score, see how the ones with high scores look on IGV vs. ones with low scores. "
   ]
  },
  {
   "cell_type": "markdown",
   "metadata": {},
   "source": [
    "---\n",
    "**7. Now that we have identified peaks from our ChIP-seq data, it is time to figure out more information about where they are and what genes they might be regulating.** \n",
    "\n",
    "HOMER contains a program called annotatePeaks.pl that performs a wide variety of functions using peak/BED files. First, lets use it to perform basic annotation of the peak file. The annotatePeaks.pl program works like this:\n",
    "\n",
    "\n",
    "```\n",
    "annotatePeaks.pl <peak/BED file> <genome version> [options] > output.txt\n",
    "```\n",
    "\n",
    "To annotate peaks from the Oct4 experiment:\n",
    "\n",
    "```\n",
    "annotatePeaks.pl <path>/oct4-esc/peaks.txt mm9 > <path>/annotations/oct4.annotation.txt\n",
    "```\n",
    "\n",
    "You can do it using a for loop for the two types of datasets:"
   ]
  },
  {
   "cell_type": "code",
   "execution_count": null,
   "metadata": {},
   "outputs": [],
   "source": [
    "%%bash\n",
    "for dir in chipseq_workshop/tagdirs/hms/*; do\n",
    "    dirname=\"$(basename $dir)\"\n",
    "    nohup annotatePeaks.pl \"$dir\"/regions.txt chipseq_workshop/mm9 > chipseq_workshop/annotations/\"$dirname\".annotation.txt &\n",
    "done"
   ]
  },
  {
   "cell_type": "markdown",
   "metadata": {},
   "source": [
    "and for tfs:"
   ]
  },
  {
   "cell_type": "code",
   "execution_count": null,
   "metadata": {},
   "outputs": [],
   "source": [
    "%%bash\n",
    "for dir in chipseq_workshop/tagdirs/tfs/*; do\n",
    "    dirname=\"$(basename $dir)\"; \n",
    "    nohup annotatePeaks.pl \"$dir\"/peaks.txt chipseq_workshop/mm9 > chipseq_workshop/annotations/\"$dirname\".annotation.txt &\n",
    "done"
   ]
  },
  {
   "cell_type": "markdown",
   "metadata": {},
   "source": [
    "If we view the `“oct4.annotation.txt”` file with `less -S`, you’ll see several annotation columns. Take note of the columns specifying the nearest gene TSS, the distance, and the annotation of the genomic region the peak is located in. This annotation is split into two separate columns – one is basic (i.e., exon, promoter, intergenic, intron etc.), and a more detailed annotation that describes CpG islands, repeat elements, etc. You might have also noticed while the command was running that stats about annotation enrichment too."
   ]
  },
  {
   "cell_type": "markdown",
   "metadata": {},
   "source": [
    "---\n",
    "**8. The annotatePeaks.pl program can also be used to create histograms that display the read enrichment relative to given genomic features**, including transcription start sites (TSS) or any other set of regions the user wants to define. Since the TSS is so commonly used for this purpose, HOMER has a built-in annotation for TSS (based on RefSeq transcripts). The key parameters to create a histogram are the `-hist #` and `-size #` options, which control the binning size and total length of the histogram. The other important option is the `-d <tag directory>`, which specifies which experiments to compile histograms for. In general:\n",
    "\n",
    "```\n",
    "annotatePeaks.pl <peak/BED file> <genome version> -size <#> -hist <#> -d <Tag Directory> > output.txt\n",
    "```\n",
    "  \n",
    "(note that the peak/BED file can be replaced with the key word “tss” to make a histogram at the TSS). To create a histogram near the TSS with the data from the experiments we’ve looked at thus far, run the following:\n",
    "\n"
   ]
  },
  {
   "cell_type": "code",
   "execution_count": null,
   "metadata": {},
   "outputs": [],
   "source": [
    "%%bash\n",
    "# should take ~30 secs\n",
    "annotatePeaks.pl tss chipseq_workshop/mm9 -size 8000 -hist 10 -d chipseq_workshop/tagdirs/hms/*-esc chipseq_workshop/tagdirs/tfs/*-esc chipseq_workshop/tagdirs/input/input-esc/ > chipseq_workshop/annotations/tss-histogram.txt"
   ]
  },
  {
   "cell_type": "markdown",
   "metadata": {},
   "source": [
    "Let's check out the “tss-histogram.txt” file using pandas! You’ll notice that the first column gives the distance offsets from the TSS followed by columns corresponding to the ‘coverage’, ‘+ Tags’, and ‘- Tags’ for each experiment. Try graphing each as X-Y line graph using the first column as the X-coordinate to see the patterns."
   ]
  },
  {
   "cell_type": "code",
   "execution_count": 1,
   "metadata": {},
   "outputs": [
    {
     "data": {
      "text/html": [
       "<div>\n",
       "<style scoped>\n",
       "    .dataframe tbody tr th:only-of-type {\n",
       "        vertical-align: middle;\n",
       "    }\n",
       "\n",
       "    .dataframe tbody tr th {\n",
       "        vertical-align: top;\n",
       "    }\n",
       "\n",
       "    .dataframe thead th {\n",
       "        text-align: right;\n",
       "    }\n",
       "</style>\n",
       "<table border=\"1\" class=\"dataframe\">\n",
       "  <thead>\n",
       "    <tr style=\"text-align: right;\">\n",
       "      <th></th>\n",
       "      <th>chipseq_workshop/tagdirs/hms/h3k27ac-esc Coverage</th>\n",
       "      <th>chipseq_workshop/tagdirs/hms/h3k27ac-esc + Tags</th>\n",
       "      <th>chipseq_workshop/tagdirs/hms/h3k27ac-esc - Tags</th>\n",
       "      <th>chipseq_workshop/tagdirs/hms/h3k4me2-esc Coverage</th>\n",
       "      <th>chipseq_workshop/tagdirs/hms/h3k4me2-esc + Tags</th>\n",
       "      <th>chipseq_workshop/tagdirs/hms/h3k4me2-esc - Tags</th>\n",
       "      <th>chipseq_workshop/tagdirs/tfs/klf4-esc Coverage</th>\n",
       "      <th>chipseq_workshop/tagdirs/tfs/klf4-esc + Tags</th>\n",
       "      <th>chipseq_workshop/tagdirs/tfs/klf4-esc - Tags</th>\n",
       "      <th>chipseq_workshop/tagdirs/tfs/oct4-esc Coverage</th>\n",
       "      <th>chipseq_workshop/tagdirs/tfs/oct4-esc + Tags</th>\n",
       "      <th>chipseq_workshop/tagdirs/tfs/oct4-esc - Tags</th>\n",
       "      <th>chipseq_workshop/tagdirs/tfs/sox2-esc Coverage</th>\n",
       "      <th>chipseq_workshop/tagdirs/tfs/sox2-esc + Tags</th>\n",
       "      <th>chipseq_workshop/tagdirs/tfs/sox2-esc - Tags</th>\n",
       "      <th>chipseq_workshop/tagdirs/input/input-esc/ Coverage</th>\n",
       "      <th>chipseq_workshop/tagdirs/input/input-esc/ + Tags</th>\n",
       "      <th>chipseq_workshop/tagdirs/input/input-esc/ - Tags</th>\n",
       "    </tr>\n",
       "    <tr>\n",
       "      <th>Distance from Center (cmd=annotatePeaks.pl tss chipseq_workshop/mm9 -size 8000 -hist 10 -d chipseq_workshop/tagdirs/hms/h3k27ac-esc chipseq_workshop/tagdirs/hms/h3k4me2-esc chipseq_workshop/tagdirs/tfs/klf4-esc chipseq_workshop/tagdirs/tfs/oct4-esc chipseq_workshop/tagdirs/tfs/sox2-esc chipseq_workshop/tagdirs/input/input-esc/)</th>\n",
       "      <th></th>\n",
       "      <th></th>\n",
       "      <th></th>\n",
       "      <th></th>\n",
       "      <th></th>\n",
       "      <th></th>\n",
       "      <th></th>\n",
       "      <th></th>\n",
       "      <th></th>\n",
       "      <th></th>\n",
       "      <th></th>\n",
       "      <th></th>\n",
       "      <th></th>\n",
       "      <th></th>\n",
       "      <th></th>\n",
       "      <th></th>\n",
       "      <th></th>\n",
       "      <th></th>\n",
       "    </tr>\n",
       "  </thead>\n",
       "  <tbody>\n",
       "    <tr>\n",
       "      <th>-4000</th>\n",
       "      <td>1.121706</td>\n",
       "      <td>0.004657</td>\n",
       "      <td>0.004168</td>\n",
       "      <td>1.254292</td>\n",
       "      <td>0.005252</td>\n",
       "      <td>0.005290</td>\n",
       "      <td>0.896240</td>\n",
       "      <td>0.003955</td>\n",
       "      <td>0.004291</td>\n",
       "      <td>0.847539</td>\n",
       "      <td>0.003634</td>\n",
       "      <td>0.003661</td>\n",
       "      <td>0.795724</td>\n",
       "      <td>0.003382</td>\n",
       "      <td>0.003382</td>\n",
       "      <td>0.702895</td>\n",
       "      <td>0.002637</td>\n",
       "      <td>0.003403</td>\n",
       "    </tr>\n",
       "    <tr>\n",
       "      <th>-3990</th>\n",
       "      <td>1.106234</td>\n",
       "      <td>0.004214</td>\n",
       "      <td>0.005603</td>\n",
       "      <td>1.230895</td>\n",
       "      <td>0.004552</td>\n",
       "      <td>0.005430</td>\n",
       "      <td>0.884941</td>\n",
       "      <td>0.003175</td>\n",
       "      <td>0.004775</td>\n",
       "      <td>0.847896</td>\n",
       "      <td>0.003300</td>\n",
       "      <td>0.003580</td>\n",
       "      <td>0.787460</td>\n",
       "      <td>0.003045</td>\n",
       "      <td>0.003153</td>\n",
       "      <td>0.700743</td>\n",
       "      <td>0.003417</td>\n",
       "      <td>0.003255</td>\n",
       "    </tr>\n",
       "    <tr>\n",
       "      <th>-3980</th>\n",
       "      <td>1.081398</td>\n",
       "      <td>0.005222</td>\n",
       "      <td>0.004962</td>\n",
       "      <td>1.228522</td>\n",
       "      <td>0.004972</td>\n",
       "      <td>0.005468</td>\n",
       "      <td>0.885838</td>\n",
       "      <td>0.004358</td>\n",
       "      <td>0.003995</td>\n",
       "      <td>0.836852</td>\n",
       "      <td>0.003367</td>\n",
       "      <td>0.003754</td>\n",
       "      <td>0.784226</td>\n",
       "      <td>0.003625</td>\n",
       "      <td>0.003517</td>\n",
       "      <td>0.689443</td>\n",
       "      <td>0.003282</td>\n",
       "      <td>0.002825</td>\n",
       "    </tr>\n",
       "    <tr>\n",
       "      <th>-3970</th>\n",
       "      <td>1.050658</td>\n",
       "      <td>0.003817</td>\n",
       "      <td>0.004122</td>\n",
       "      <td>1.220892</td>\n",
       "      <td>0.005086</td>\n",
       "      <td>0.004997</td>\n",
       "      <td>0.900366</td>\n",
       "      <td>0.003874</td>\n",
       "      <td>0.003955</td>\n",
       "      <td>0.847896</td>\n",
       "      <td>0.003821</td>\n",
       "      <td>0.003888</td>\n",
       "      <td>0.784945</td>\n",
       "      <td>0.003894</td>\n",
       "      <td>0.003746</td>\n",
       "      <td>0.696618</td>\n",
       "      <td>0.003067</td>\n",
       "      <td>0.003551</td>\n",
       "    </tr>\n",
       "    <tr>\n",
       "      <th>-3960</th>\n",
       "      <td>1.068369</td>\n",
       "      <td>0.005100</td>\n",
       "      <td>0.004672</td>\n",
       "      <td>1.216145</td>\n",
       "      <td>0.004857</td>\n",
       "      <td>0.005481</td>\n",
       "      <td>0.901800</td>\n",
       "      <td>0.003955</td>\n",
       "      <td>0.004036</td>\n",
       "      <td>0.835248</td>\n",
       "      <td>0.003888</td>\n",
       "      <td>0.003580</td>\n",
       "      <td>0.769134</td>\n",
       "      <td>0.003382</td>\n",
       "      <td>0.003665</td>\n",
       "      <td>0.697514</td>\n",
       "      <td>0.003793</td>\n",
       "      <td>0.002811</td>\n",
       "    </tr>\n",
       "  </tbody>\n",
       "</table>\n",
       "</div>"
      ],
      "text/plain": [
       "                                                    chipseq_workshop/tagdirs/hms/h3k27ac-esc Coverage  \\\n",
       "Distance from Center (cmd=annotatePeaks.pl tss ...                                                      \n",
       "-4000                                                                                        1.121706   \n",
       "-3990                                                                                        1.106234   \n",
       "-3980                                                                                        1.081398   \n",
       "-3970                                                                                        1.050658   \n",
       "-3960                                                                                        1.068369   \n",
       "\n",
       "                                                    chipseq_workshop/tagdirs/hms/h3k27ac-esc + Tags  \\\n",
       "Distance from Center (cmd=annotatePeaks.pl tss ...                                                    \n",
       "-4000                                                                                      0.004657   \n",
       "-3990                                                                                      0.004214   \n",
       "-3980                                                                                      0.005222   \n",
       "-3970                                                                                      0.003817   \n",
       "-3960                                                                                      0.005100   \n",
       "\n",
       "                                                    chipseq_workshop/tagdirs/hms/h3k27ac-esc - Tags  \\\n",
       "Distance from Center (cmd=annotatePeaks.pl tss ...                                                    \n",
       "-4000                                                                                      0.004168   \n",
       "-3990                                                                                      0.005603   \n",
       "-3980                                                                                      0.004962   \n",
       "-3970                                                                                      0.004122   \n",
       "-3960                                                                                      0.004672   \n",
       "\n",
       "                                                    chipseq_workshop/tagdirs/hms/h3k4me2-esc Coverage  \\\n",
       "Distance from Center (cmd=annotatePeaks.pl tss ...                                                      \n",
       "-4000                                                                                        1.254292   \n",
       "-3990                                                                                        1.230895   \n",
       "-3980                                                                                        1.228522   \n",
       "-3970                                                                                        1.220892   \n",
       "-3960                                                                                        1.216145   \n",
       "\n",
       "                                                    chipseq_workshop/tagdirs/hms/h3k4me2-esc + Tags  \\\n",
       "Distance from Center (cmd=annotatePeaks.pl tss ...                                                    \n",
       "-4000                                                                                      0.005252   \n",
       "-3990                                                                                      0.004552   \n",
       "-3980                                                                                      0.004972   \n",
       "-3970                                                                                      0.005086   \n",
       "-3960                                                                                      0.004857   \n",
       "\n",
       "                                                    chipseq_workshop/tagdirs/hms/h3k4me2-esc - Tags  \\\n",
       "Distance from Center (cmd=annotatePeaks.pl tss ...                                                    \n",
       "-4000                                                                                      0.005290   \n",
       "-3990                                                                                      0.005430   \n",
       "-3980                                                                                      0.005468   \n",
       "-3970                                                                                      0.004997   \n",
       "-3960                                                                                      0.005481   \n",
       "\n",
       "                                                    chipseq_workshop/tagdirs/tfs/klf4-esc Coverage  \\\n",
       "Distance from Center (cmd=annotatePeaks.pl tss ...                                                   \n",
       "-4000                                                                                     0.896240   \n",
       "-3990                                                                                     0.884941   \n",
       "-3980                                                                                     0.885838   \n",
       "-3970                                                                                     0.900366   \n",
       "-3960                                                                                     0.901800   \n",
       "\n",
       "                                                    chipseq_workshop/tagdirs/tfs/klf4-esc + Tags  \\\n",
       "Distance from Center (cmd=annotatePeaks.pl tss ...                                                 \n",
       "-4000                                                                                   0.003955   \n",
       "-3990                                                                                   0.003175   \n",
       "-3980                                                                                   0.004358   \n",
       "-3970                                                                                   0.003874   \n",
       "-3960                                                                                   0.003955   \n",
       "\n",
       "                                                    chipseq_workshop/tagdirs/tfs/klf4-esc - Tags  \\\n",
       "Distance from Center (cmd=annotatePeaks.pl tss ...                                                 \n",
       "-4000                                                                                   0.004291   \n",
       "-3990                                                                                   0.004775   \n",
       "-3980                                                                                   0.003995   \n",
       "-3970                                                                                   0.003955   \n",
       "-3960                                                                                   0.004036   \n",
       "\n",
       "                                                    chipseq_workshop/tagdirs/tfs/oct4-esc Coverage  \\\n",
       "Distance from Center (cmd=annotatePeaks.pl tss ...                                                   \n",
       "-4000                                                                                     0.847539   \n",
       "-3990                                                                                     0.847896   \n",
       "-3980                                                                                     0.836852   \n",
       "-3970                                                                                     0.847896   \n",
       "-3960                                                                                     0.835248   \n",
       "\n",
       "                                                    chipseq_workshop/tagdirs/tfs/oct4-esc + Tags  \\\n",
       "Distance from Center (cmd=annotatePeaks.pl tss ...                                                 \n",
       "-4000                                                                                   0.003634   \n",
       "-3990                                                                                   0.003300   \n",
       "-3980                                                                                   0.003367   \n",
       "-3970                                                                                   0.003821   \n",
       "-3960                                                                                   0.003888   \n",
       "\n",
       "                                                    chipseq_workshop/tagdirs/tfs/oct4-esc - Tags  \\\n",
       "Distance from Center (cmd=annotatePeaks.pl tss ...                                                 \n",
       "-4000                                                                                   0.003661   \n",
       "-3990                                                                                   0.003580   \n",
       "-3980                                                                                   0.003754   \n",
       "-3970                                                                                   0.003888   \n",
       "-3960                                                                                   0.003580   \n",
       "\n",
       "                                                    chipseq_workshop/tagdirs/tfs/sox2-esc Coverage  \\\n",
       "Distance from Center (cmd=annotatePeaks.pl tss ...                                                   \n",
       "-4000                                                                                     0.795724   \n",
       "-3990                                                                                     0.787460   \n",
       "-3980                                                                                     0.784226   \n",
       "-3970                                                                                     0.784945   \n",
       "-3960                                                                                     0.769134   \n",
       "\n",
       "                                                    chipseq_workshop/tagdirs/tfs/sox2-esc + Tags  \\\n",
       "Distance from Center (cmd=annotatePeaks.pl tss ...                                                 \n",
       "-4000                                                                                   0.003382   \n",
       "-3990                                                                                   0.003045   \n",
       "-3980                                                                                   0.003625   \n",
       "-3970                                                                                   0.003894   \n",
       "-3960                                                                                   0.003382   \n",
       "\n",
       "                                                    chipseq_workshop/tagdirs/tfs/sox2-esc - Tags  \\\n",
       "Distance from Center (cmd=annotatePeaks.pl tss ...                                                 \n",
       "-4000                                                                                   0.003382   \n",
       "-3990                                                                                   0.003153   \n",
       "-3980                                                                                   0.003517   \n",
       "-3970                                                                                   0.003746   \n",
       "-3960                                                                                   0.003665   \n",
       "\n",
       "                                                    chipseq_workshop/tagdirs/input/input-esc/ Coverage  \\\n",
       "Distance from Center (cmd=annotatePeaks.pl tss ...                                                       \n",
       "-4000                                                                                        0.702895    \n",
       "-3990                                                                                        0.700743    \n",
       "-3980                                                                                        0.689443    \n",
       "-3970                                                                                        0.696618    \n",
       "-3960                                                                                        0.697514    \n",
       "\n",
       "                                                    chipseq_workshop/tagdirs/input/input-esc/ + Tags  \\\n",
       "Distance from Center (cmd=annotatePeaks.pl tss ...                                                     \n",
       "-4000                                                                                       0.002637   \n",
       "-3990                                                                                       0.003417   \n",
       "-3980                                                                                       0.003282   \n",
       "-3970                                                                                       0.003067   \n",
       "-3960                                                                                       0.003793   \n",
       "\n",
       "                                                    chipseq_workshop/tagdirs/input/input-esc/ - Tags  \n",
       "Distance from Center (cmd=annotatePeaks.pl tss ...                                                    \n",
       "-4000                                                                                       0.003403  \n",
       "-3990                                                                                       0.003255  \n",
       "-3980                                                                                       0.002825  \n",
       "-3970                                                                                       0.003551  \n",
       "-3960                                                                                       0.002811  "
      ]
     },
     "execution_count": 1,
     "metadata": {},
     "output_type": "execute_result"
    }
   ],
   "source": [
    "import pandas as pd\n",
    "\n",
    "histogram_df = pd.read_csv('chipseq_workshop/annotations/tss-histogram.txt', sep='\\t', index_col=0)\n",
    "histogram_df.head()"
   ]
  },
  {
   "cell_type": "code",
   "execution_count": 2,
   "metadata": {},
   "outputs": [
    {
     "data": {
      "text/plain": [
       "Text(0.5, 1.0, 'Distance from TSS for each transcription factor or histone modification')"
      ]
     },
     "execution_count": 2,
     "metadata": {},
     "output_type": "execute_result"
    },
    {
     "data": {
      "image/png": "[encoded data removed]",
      "text/plain": [
       "<Figure size 1080x720 with 1 Axes>"
      ]
     },
     "metadata": {
      "needs_background": "light"
     },
     "output_type": "display_data"
    }
   ],
   "source": [
    "from matplotlib import pyplot as plt\n",
    "\n",
    "legend = []\n",
    "plt.figure(figsize=(15, 10))\n",
    "for column_name in histogram_df.columns:\n",
    "    if 'Coverage' in column_name:\n",
    "        histogram_df[column_name].plot()\n",
    "        plt.xlabel('Distance from TSS')\n",
    "        legend.append(column_name)\n",
    "    plt.legend(legend)\n",
    "plt.title('Distance from TSS for each transcription factor or histone modification')"
   ]
  },
  {
   "cell_type": "markdown",
   "metadata": {},
   "source": [
    "---\n",
    "### Motif finding\n",
    "\n",
    "**9. DNA motif finding is a powerful technique to analyze ChIP-seq experiments.** Unlike gene expression data, ChIP-seq localizes signals to very specific regions of the genome allowing for accurate identification of the genetic signals responsible for recruiting various transcription factors. To use HOMER’s motif analysis program, run the findMotifsGenome.pl command using peak files from the experiments. In general the command works like this:\n",
    "\n",
    "```\n",
    "findMotifsGenome.pl <peak/BED file> <genome version> <output directory> [options]\n",
    "```\n",
    "\n",
    "Common options for motif finding are `-p <#cpu>` for parallel execution, and `-size <#>` to specify the size of the regions you which to search for DNA motifs. For transcription factor motifs, a good size is 100. Make a new directory (e.g., “motifs”). \n"
   ]
  },
  {
   "cell_type": "code",
   "execution_count": 3,
   "metadata": {},
   "outputs": [],
   "source": [
    "%%bash\n",
    "mkdir -p chipseq_workshop/motifs"
   ]
  },
  {
   "cell_type": "markdown",
   "metadata": {},
   "source": [
    "To find enriched motifs, copy the following for loop into your terminal to run it (again, make sure you are in the module-9-chipseq directory):"
   ]
  },
  {
   "cell_type": "code",
   "execution_count": null,
   "metadata": {},
   "outputs": [],
   "source": [
    "%%bash\n",
    "# note that this will take ~7-8 mins to run\n",
    "for dir in chipseq_workshop/tagdirs/tfs/*; do\n",
    "    dirname=\"$(basename $dir)\"\n",
    "    mkdir -p chipseq_workshop/motifs/\"$dirname\"\n",
    "    nohup findMotifsGenome.pl \"$dir\"/peaks.txt chipseq_workshop/mm9 chipseq_workshop/motifs/\"$dirname\" -mask -size 100 -p 10 > chipseq_workshop/motifs/\"$dirname\"/findMotifsGenome.out &\n",
    "done"
   ]
  },
  {
   "cell_type": "markdown",
   "metadata": {},
   "source": [
    "This command will perform several different steps, including checking for the enrichment of a library of known transcription factor motifs as well as perform a de novo search for enriched motifs. The “-mask” tells the program to mask repeat sequences in the genome. Depending on the speed of your server this program may take while to run. Once it’s finished, check out the homerResults.html files.\n",
    "\n",
    "This file will list the top de novo motifs found as well as provide stats and best matches to known transcription factor motifs. A second file called knownResults.html contains the enrichment statistics for known motifs. \n",
    "\n",
    "You might notice that both analyses indicate that Oct4 and Sox2 peaks in ESC are highly enriched for an OCT:SOX composite motif, which has been shown to be very important in establishing pluripotent enhancers."
   ]
  },
  {
   "cell_type": "markdown",
   "metadata": {},
   "source": [
    "---\n",
    "**10. Now that you’ve found the most enriched motifs in a ChIP-seq experiment, it is worth it to see where those motifs are located (i.e., which peaks, etc.)**. One of the key outputs from motif finding are “motif files”, which contain the information needed to understand where the motif is located in the genome. For example, the top de novo motifs found during motif finding are located in the output directory in the homerResults/ directory. To make it easier, lets copy the top Oct4 motif to the file “topOct4.motif” in the main directory where we are executing these commands (alternatively you could save the motif file down from the HTML results):\n"
   ]
  },
  {
   "cell_type": "code",
   "execution_count": null,
   "metadata": {},
   "outputs": [],
   "source": [
    "%%bash\n",
    "mkdir -p chipseq_workshop/motifs/analysis\n",
    "cp chipseq_workshop/motifs/oct4-esc/homerResults/motif1.motif chipseq_workshop/motifs/analysis/topOct4.motif"
   ]
  },
  {
   "cell_type": "markdown",
   "metadata": {},
   "source": [
    "\n",
    "Now lets perform two separate analyses: first, lets create a histogram showing the motif positions relative to Oct4 peaks so we can check if it really looks enriched relative to the center of the Oct4 peaks. We can do this using the annotatePeaks.pl program like before, but instead of looking at read densities with the `-d <tag directory>` option, we can look at motif densities using the `-m <motif file>` option instead:\n"
   ]
  },
  {
   "cell_type": "code",
   "execution_count": null,
   "metadata": {},
   "outputs": [],
   "source": [
    "%%bash\n",
    "annotatePeaks.pl chipseq_workshop/tagdirs/tfs/oct4-esc/peaks.txt chipseq_workshop/mm9/ -size 2000 -hist 10 -m chipseq_workshop/motifs/analysis/topOct4.motif > chipseq_workshop/motifs/analysis/output.Oct4motifHistogram.txt"
   ]
  },
  {
   "cell_type": "markdown",
   "metadata": {},
   "source": [
    "Let's check out output.Oct4motifHistogram.txt, and create an X-Y plot to examine the distribution of the motif relative to the peaks.\n",
    "\n"
   ]
  },
  {
   "cell_type": "code",
   "execution_count": 4,
   "metadata": {},
   "outputs": [
    {
     "data": {
      "text/plain": [
       "Text(0.5, 0, 'Distance from center')"
      ]
     },
     "execution_count": 4,
     "metadata": {},
     "output_type": "execute_result"
    },
    {
     "data": {
      "image/png": "[encoded data removed]",
      "text/plain": [
       "<Figure size 432x288 with 1 Axes>"
      ]
     },
     "metadata": {
      "needs_background": "light"
     },
     "output_type": "display_data"
    }
   ],
   "source": [
    "import pandas as pd\n",
    "oct4motif_df = pd.read_csv('chipseq_workshop/motifs/analysis/output.Oct4motifHistogram.txt', sep='\\t', index_col=0)\n",
    "oct4motif_df[oct4motif_df.columns[0]].plot()\n",
    "plt.xlabel(\"Distance from center\")"
   ]
  },
  {
   "cell_type": "markdown",
   "metadata": {},
   "source": [
    "Next, lets see where these motifs are located in the actual genome browser. To do this, we can run annotatePeaks.pl again, but this time we will not make a histogram and instead use the `-mbed <bedfile>` option to tell it to create a bed file of the motif positions that we can upload to the genome browser. Try the following:\n"
   ]
  },
  {
   "cell_type": "code",
   "execution_count": null,
   "metadata": {},
   "outputs": [],
   "source": [
    "%%bash\n",
    "# will take ~30 secs\n",
    "annotatePeaks.pl chipseq_workshop/tagdirs/tfs/oct4-esc/peaks.txt chipseq_workshop/mm9/ -mbed chipseq_workshop/topOct4.motifTrack.bed -m chipseq_workshop/motifs/analysis/topOct4.motif > chipseq_workshop/peaks-topOct4motif.txt"
   ]
  },
  {
   "cell_type": "markdown",
   "metadata": {},
   "source": [
    "Now you can download and then load the `topOct4.motifTrack.bed` to IGV. In addition, the other output file `peaks-topOct4motif.txt` will contain the peak annotation results with an additional column showing the peaks that contain the given motif."
   ]
  },
  {
   "cell_type": "markdown",
   "metadata": {},
   "source": [
    "---\n",
    "\n",
    "**11. Finally, we want to gain some experience comparing ChIP-seq experiments.** At first pass it might make sense to make a Venn diagram comparing peaks from two experiments to see how many overlap. This is a horrible way to analyze ChIP-seq data!!! \n",
    "This is because many peaks are close to the threshold of detection, barely making the cut for statistical significance (or not) in one experiment or another. A good practice is to create a scatter plot comparing the read counts between two experiments directly at all of the sites where there is signal (i.e., peaks). To do this, first lets merge the peak files from the two experiments, collapsing peaks found that overlap:\n"
   ]
  },
  {
   "cell_type": "code",
   "execution_count": null,
   "metadata": {},
   "outputs": [],
   "source": [
    "%%bash\n",
    "mergePeaks chipseq_workshop/tagdirs/tfs/oct4-esc/peaks.txt chipseq_workshop/tagdirs/tfs/sox2-esc/peaks.txt > chipseq_workshop/oct4andsox2.peaks.txt"
   ]
  },
  {
   "cell_type": "markdown",
   "metadata": {},
   "source": [
    "When you run this command, you’ll notice that it will print out the numbers of overlapping and unique peaks from each file (i.e., Venn diagram). This can be useful to give you a general idea of how similar the experiments are, but be careful not to over interpret these values. Now that you have the combined features in the “oct4andsox2.peaks.txt” file, lets use annotatePeaks.pl to quantify the read counts from each experiment at each of the peaks by specify each tag directory with the -d option like the following:\n"
   ]
  },
  {
   "cell_type": "code",
   "execution_count": null,
   "metadata": {},
   "outputs": [],
   "source": [
    "%%bash\n",
    "# will take ~30 secs\n",
    "annotatePeaks.pl chipseq_workshop/oct4andsox2.peaks.txt chipseq_workshop/mm9 -d chipseq_workshop/tagdirs/tfs/oct4-esc/ chipseq_workshop/tagdirs/tfs/sox2-esc/ > chipseq_workshop/oct4andsox2-scatter.txt"
   ]
  },
  {
   "cell_type": "markdown",
   "metadata": {},
   "source": [
    "We can now open the oct4andsox2-scatter.txt file to directly look at the read counts (tag counts; last two columns) at each peak to find those with low levels in one experiment or the other. Try creating an X-Y scatter plot of the read counts with log-transformed axes to get a sense for how different (or similar) each experiment is from one another. "
   ]
  },
  {
   "cell_type": "code",
   "execution_count": 5,
   "metadata": {},
   "outputs": [
    {
     "data": {
      "text/html": [
       "<div>\n",
       "<style scoped>\n",
       "    .dataframe tbody tr th:only-of-type {\n",
       "        vertical-align: middle;\n",
       "    }\n",
       "\n",
       "    .dataframe tbody tr th {\n",
       "        vertical-align: top;\n",
       "    }\n",
       "\n",
       "    .dataframe thead th {\n",
       "        text-align: right;\n",
       "    }\n",
       "</style>\n",
       "<table border=\"1\" class=\"dataframe\">\n",
       "  <thead>\n",
       "    <tr style=\"text-align: right;\">\n",
       "      <th></th>\n",
       "      <th>PeakID (cmd=annotatePeaks.pl chipseq_workshop/oct4andsox2.peaks.txt chipseq_workshop/mm9 -d chipseq_workshop/tagdirs/tfs/oct4-esc/ chipseq_workshop/tagdirs/tfs/sox2-esc/)</th>\n",
       "      <th>Chr</th>\n",
       "      <th>Start</th>\n",
       "      <th>End</th>\n",
       "      <th>Strand</th>\n",
       "      <th>Peak Score</th>\n",
       "      <th>Focus Ratio/Region Size</th>\n",
       "      <th>Annotation</th>\n",
       "      <th>Detailed Annotation</th>\n",
       "      <th>Distance to TSS</th>\n",
       "      <th>...</th>\n",
       "      <th>Entrez ID</th>\n",
       "      <th>Nearest Unigene</th>\n",
       "      <th>Nearest Refseq</th>\n",
       "      <th>Nearest Ensembl</th>\n",
       "      <th>Gene Name</th>\n",
       "      <th>Gene Alias</th>\n",
       "      <th>Gene Description</th>\n",
       "      <th>Gene Type</th>\n",
       "      <th>chipseq_workshop/tagdirs/tfs/oct4-esc/ Tag Count in given bp (1721879.0 Total, normalization factor = 5.81, effective total = 10000000)</th>\n",
       "      <th>chipseq_workshop/tagdirs/tfs/sox2-esc/ Tag Count in given bp (1706036.0 Total, normalization factor = 5.86, effective total = 10000000)</th>\n",
       "    </tr>\n",
       "  </thead>\n",
       "  <tbody>\n",
       "    <tr>\n",
       "      <th>0</th>\n",
       "      <td>Merged-chr17-35641020-2</td>\n",
       "      <td>chr17</td>\n",
       "      <td>35640981</td>\n",
       "      <td>35641060</td>\n",
       "      <td>+</td>\n",
       "      <td>2201.550049</td>\n",
       "      <td>chipseq_workshop/tagdirs/tfs/oct4-esc/peaks.tx...</td>\n",
       "      <td>Intergenic</td>\n",
       "      <td>Intergenic</td>\n",
       "      <td>-1957</td>\n",
       "      <td>...</td>\n",
       "      <td>NaN</td>\n",
       "      <td>NaN</td>\n",
       "      <td>NaN</td>\n",
       "      <td>NaN</td>\n",
       "      <td>NaN</td>\n",
       "      <td>NaN</td>\n",
       "      <td>NaN</td>\n",
       "      <td>NaN</td>\n",
       "      <td>2497.27</td>\n",
       "      <td>2321.17</td>\n",
       "    </tr>\n",
       "    <tr>\n",
       "      <th>1</th>\n",
       "      <td>Merged-chr17-50567215-2</td>\n",
       "      <td>chr17</td>\n",
       "      <td>50567170</td>\n",
       "      <td>50567261</td>\n",
       "      <td>+</td>\n",
       "      <td>1825.750000</td>\n",
       "      <td>chipseq_workshop/tagdirs/tfs/oct4-esc/peaks.tx...</td>\n",
       "      <td>Intergenic</td>\n",
       "      <td>Intergenic</td>\n",
       "      <td>-81657</td>\n",
       "      <td>...</td>\n",
       "      <td>NaN</td>\n",
       "      <td>NaN</td>\n",
       "      <td>NaN</td>\n",
       "      <td>NaN</td>\n",
       "      <td>NaN</td>\n",
       "      <td>NaN</td>\n",
       "      <td>NaN</td>\n",
       "      <td>NaN</td>\n",
       "      <td>3014.15</td>\n",
       "      <td>1266.09</td>\n",
       "    </tr>\n",
       "    <tr>\n",
       "      <th>2</th>\n",
       "      <td>Merged-chr17-53701199-2</td>\n",
       "      <td>chr17</td>\n",
       "      <td>53701162</td>\n",
       "      <td>53701236</td>\n",
       "      <td>+</td>\n",
       "      <td>1696.200073</td>\n",
       "      <td>chipseq_workshop/tagdirs/tfs/oct4-esc/peaks.tx...</td>\n",
       "      <td>Intergenic</td>\n",
       "      <td>RLTR11B|LTR|ERVK</td>\n",
       "      <td>-5097</td>\n",
       "      <td>...</td>\n",
       "      <td>NaN</td>\n",
       "      <td>NaN</td>\n",
       "      <td>NaN</td>\n",
       "      <td>NaN</td>\n",
       "      <td>NaN</td>\n",
       "      <td>NaN</td>\n",
       "      <td>NaN</td>\n",
       "      <td>NaN</td>\n",
       "      <td>2032.66</td>\n",
       "      <td>1922.59</td>\n",
       "    </tr>\n",
       "    <tr>\n",
       "      <th>3</th>\n",
       "      <td>Merged-chr17-37216105-2</td>\n",
       "      <td>chr17</td>\n",
       "      <td>37216053</td>\n",
       "      <td>37216157</td>\n",
       "      <td>+</td>\n",
       "      <td>1619.300049</td>\n",
       "      <td>chipseq_workshop/tagdirs/tfs/oct4-esc/peaks.tx...</td>\n",
       "      <td>Intergenic</td>\n",
       "      <td>Intergenic</td>\n",
       "      <td>7076</td>\n",
       "      <td>...</td>\n",
       "      <td>NaN</td>\n",
       "      <td>NaN</td>\n",
       "      <td>NaN</td>\n",
       "      <td>NaN</td>\n",
       "      <td>NaN</td>\n",
       "      <td>NaN</td>\n",
       "      <td>NaN</td>\n",
       "      <td>NaN</td>\n",
       "      <td>2206.89</td>\n",
       "      <td>2450.12</td>\n",
       "    </tr>\n",
       "    <tr>\n",
       "      <th>4</th>\n",
       "      <td>Merged-chr17-48755771-2</td>\n",
       "      <td>chr17</td>\n",
       "      <td>48755720</td>\n",
       "      <td>48755822</td>\n",
       "      <td>+</td>\n",
       "      <td>1449.800049</td>\n",
       "      <td>chipseq_workshop/tagdirs/tfs/oct4-esc/peaks.tx...</td>\n",
       "      <td>Intergenic</td>\n",
       "      <td>Intergenic</td>\n",
       "      <td>161545</td>\n",
       "      <td>...</td>\n",
       "      <td>NaN</td>\n",
       "      <td>NaN</td>\n",
       "      <td>NaN</td>\n",
       "      <td>NaN</td>\n",
       "      <td>NaN</td>\n",
       "      <td>NaN</td>\n",
       "      <td>NaN</td>\n",
       "      <td>NaN</td>\n",
       "      <td>2079.12</td>\n",
       "      <td>1899.14</td>\n",
       "    </tr>\n",
       "  </tbody>\n",
       "</table>\n",
       "<p>5 rows × 21 columns</p>\n",
       "</div>"
      ],
      "text/plain": [
       "  PeakID (cmd=annotatePeaks.pl chipseq_workshop/oct4andsox2.peaks.txt chipseq_workshop/mm9 -d chipseq_workshop/tagdirs/tfs/oct4-esc/ chipseq_workshop/tagdirs/tfs/sox2-esc/)  \\\n",
       "0                            Merged-chr17-35641020-2                                                                                                                           \n",
       "1                            Merged-chr17-50567215-2                                                                                                                           \n",
       "2                            Merged-chr17-53701199-2                                                                                                                           \n",
       "3                            Merged-chr17-37216105-2                                                                                                                           \n",
       "4                            Merged-chr17-48755771-2                                                                                                                           \n",
       "\n",
       "     Chr     Start       End Strand   Peak Score  \\\n",
       "0  chr17  35640981  35641060      +  2201.550049   \n",
       "1  chr17  50567170  50567261      +  1825.750000   \n",
       "2  chr17  53701162  53701236      +  1696.200073   \n",
       "3  chr17  37216053  37216157      +  1619.300049   \n",
       "4  chr17  48755720  48755822      +  1449.800049   \n",
       "\n",
       "                             Focus Ratio/Region Size  Annotation  \\\n",
       "0  chipseq_workshop/tagdirs/tfs/oct4-esc/peaks.tx...  Intergenic   \n",
       "1  chipseq_workshop/tagdirs/tfs/oct4-esc/peaks.tx...  Intergenic   \n",
       "2  chipseq_workshop/tagdirs/tfs/oct4-esc/peaks.tx...  Intergenic   \n",
       "3  chipseq_workshop/tagdirs/tfs/oct4-esc/peaks.tx...  Intergenic   \n",
       "4  chipseq_workshop/tagdirs/tfs/oct4-esc/peaks.tx...  Intergenic   \n",
       "\n",
       "  Detailed Annotation  Distance to TSS  ... Entrez ID  Nearest Unigene  \\\n",
       "0          Intergenic            -1957  ...       NaN              NaN   \n",
       "1          Intergenic           -81657  ...       NaN              NaN   \n",
       "2    RLTR11B|LTR|ERVK            -5097  ...       NaN              NaN   \n",
       "3          Intergenic             7076  ...       NaN              NaN   \n",
       "4          Intergenic           161545  ...       NaN              NaN   \n",
       "\n",
       "   Nearest Refseq  Nearest Ensembl  Gene Name  Gene Alias  Gene Description  \\\n",
       "0             NaN              NaN        NaN         NaN               NaN   \n",
       "1             NaN              NaN        NaN         NaN               NaN   \n",
       "2             NaN              NaN        NaN         NaN               NaN   \n",
       "3             NaN              NaN        NaN         NaN               NaN   \n",
       "4             NaN              NaN        NaN         NaN               NaN   \n",
       "\n",
       "   Gene Type  \\\n",
       "0        NaN   \n",
       "1        NaN   \n",
       "2        NaN   \n",
       "3        NaN   \n",
       "4        NaN   \n",
       "\n",
       "   chipseq_workshop/tagdirs/tfs/oct4-esc/ Tag Count in given bp (1721879.0 Total, normalization factor = 5.81, effective total = 10000000)  \\\n",
       "0                                            2497.27                                                                                         \n",
       "1                                            3014.15                                                                                         \n",
       "2                                            2032.66                                                                                         \n",
       "3                                            2206.89                                                                                         \n",
       "4                                            2079.12                                                                                         \n",
       "\n",
       "   chipseq_workshop/tagdirs/tfs/sox2-esc/ Tag Count in given bp (1706036.0 Total, normalization factor = 5.86, effective total = 10000000)  \n",
       "0                                            2321.17                                                                                        \n",
       "1                                            1266.09                                                                                        \n",
       "2                                            1922.59                                                                                        \n",
       "3                                            2450.12                                                                                        \n",
       "4                                            1899.14                                                                                        \n",
       "\n",
       "[5 rows x 21 columns]"
      ]
     },
     "execution_count": 5,
     "metadata": {},
     "output_type": "execute_result"
    }
   ],
   "source": [
    "import pandas as pd\n",
    "\n",
    "scatter_df = pd.read_csv('chipseq_workshop/oct4andsox2-scatter.txt', sep='\\t')\n",
    "scatter_df.head()"
   ]
  },
  {
   "cell_type": "code",
   "execution_count": 6,
   "metadata": {},
   "outputs": [
    {
     "data": {
      "text/plain": [
       "Text(0, 0.5, 'sox2-esc read counts')"
      ]
     },
     "execution_count": 6,
     "metadata": {},
     "output_type": "execute_result"
    },
    {
     "data": {
      "image/png": "[encoded data removed]",
      "text/plain": [
       "<Figure size 432x288 with 1 Axes>"
      ]
     },
     "metadata": {
      "needs_background": "light"
     },
     "output_type": "display_data"
    }
   ],
   "source": [
    "import seaborn as sns\n",
    "from matplotlib import pyplot as plt\n",
    "# Getting the last two columns...\n",
    "sns.scatterplot(data=scatter_df, x=scatter_df.columns[-2], y=scatter_df.columns[-1])\n",
    "plt.xlabel('oct4-esc read counts')\n",
    "plt.ylabel('sox2-esc read counts')"
   ]
  },
  {
   "cell_type": "markdown",
   "metadata": {},
   "source": [
    "Now that we have an appreciation for how similar the experiments are, lets try using the getDifferentialPeaks command to selective find peaks that are ‘specific’ to one experiment relative to another. In the following example we’ll specify “-F 2” to indicate that we want to find Sox2 peaks that are 2-fold higher in the Sox2 experiment relative to the Oct4 experiment:\n",
    "\n",
    "```\n",
    "getDifferentialPeaks <peak file to check> <target tag directory> <background tag directory> \n",
    "-F <fold change> > output.txt\n",
    "```\n",
    "\n",
    "and in our case:"
   ]
  },
  {
   "cell_type": "code",
   "execution_count": null,
   "metadata": {},
   "outputs": [],
   "source": [
    "%%bash\n",
    "getDifferentialPeaks chipseq_workshop/tagdirs/tfs/sox2-esc/peaks.txt chipseq_workshop/tagdirs/tfs/sox2-esc chipseq_workshop/tagdirs/tfs/oct4-esc -F 2 > chipseq_workshop/sox2-specific-peaks.txt"
   ]
  },
  {
   "cell_type": "markdown",
   "metadata": {},
   "source": [
    "Now that we have found Sox2 peaks that are relatively uniquely bound by Sox2 (and not Oct4), look at the peak file using less -S, and look at several of the peaks in the genome browser to convince yourself that we have found interesting peaks.\n",
    "\n",
    "Finally, lets use motif finding to see if we can identify what is unique about the DNA sequences in the Sox2-specific peaks that might have lead to a differential recruitment of Sox2 versus Oct4 at these sites. Run motif finding on the Sox2 specific peaks:\n",
    "(reminder: this is the general command for finding peaks:\n",
    "\n",
    "```\n",
    "findMotifsGenome.pl <peak/BED file> <genome version> <output directory> [options]\n",
    "```"
   ]
  },
  {
   "cell_type": "code",
   "execution_count": 7,
   "metadata": {},
   "outputs": [],
   "source": [
    "%%bash\n",
    "mkdir -p chipseq_workshop/motifs-sox2-specific"
   ]
  },
  {
   "cell_type": "code",
   "execution_count": null,
   "metadata": {},
   "outputs": [],
   "source": [
    "%%bash\n",
    "# will take ~3 mins\n",
    "findMotifsGenome.pl chipseq_workshop/sox2-specific-peaks.txt chipseq_workshop/mm9 chipseq_workshop/motifs-sox2-specific -size 100 -p 10 -mask > chipseq_workshop/motifs-sox2-specific/findMotifsGenome.out"
   ]
  },
  {
   "cell_type": "markdown",
   "metadata": {},
   "source": [
    "---\n",
    "**12. Notice anything different about these results relative to the results from all Sox2 peaks that we found in step 9?**"
   ]
  },
  {
   "cell_type": "markdown",
   "metadata": {},
   "source": []
  }
 ],
 "metadata": {
  "kernelspec": {
   "display_name": "py-bio",
   "language": "python",
   "name": "py-bio"
  },
  "language_info": {
   "codemirror_mode": {
    "name": "ipython",
    "version": 3
   },
   "file_extension": ".py",
   "mimetype": "text/x-python",
   "name": "python",
   "nbconvert_exporter": "python",
   "pygments_lexer": "ipython3",
   "version": "3.9.5"
  }
 },
 "nbformat": 4,
 "nbformat_minor": 4
}
